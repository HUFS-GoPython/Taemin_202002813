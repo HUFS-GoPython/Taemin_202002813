{
 "cells": [
  {
   "cell_type": "markdown",
   "metadata": {},
   "source": [
    "### 파일과 디렉터리\n",
    "- 파일: 컴퓨터를 실행할 때 가장 기본이 되는 단위\n",
    "    - 파일명 + 확장자(.txt, .csv...)\n",
    "    - 바이너리, 텍스트로 나뉨\n",
    "        - 바이너리: 엑셀, 워드, ...\n",
    "       - 텍스트는 파일을 읽고 쓰기 위해서 바이너리로 변환되어 저장됨\n",
    "            - 메모장, python, html, css, javascript, ...\n",
    "            - 기준: Ascii, UTF-8(한국어), UTF-16, UTF-32, cp494, ... (\"인코딩\")\n",
    "    - `f = open(파일명, 모드)`\n",
    "        - r: 읽기모드 (기본)\n",
    "        - w: 쓰기모드 (새로 생성, 없으면 새로 만들고 있으면 덮어쓰기)\n",
    "        - a: 추가모드 (기존 파일에 마지막에 추가)\n",
    "        - x: 새로운 파일만 생성하고 쓰기모드 (없을 때만 사용할 수 있게)\n",
    "        - b: 바이너리모드 (파일을 읽고 쓰기 위해서 바이너리로 변환되어 저장됨)\n",
    "        - t: 텍스트모드 (파일을 읽고 쓰기 위해서 텍스트로 변환되어 저장됨)\n",
    "            - rb, rt, ...\n",
    "- 디렉터리 : 폴더, 파일을 논리적으로 묶어놓은 단위\n",
    "    - 직박구리 : a, b, c, ..."
   ]
  },
  {
   "cell_type": "code",
   "execution_count": 9,
   "metadata": {},
   "outputs": [
    {
     "data": {
      "text/plain": [
       "<_io.TextIOWrapper name='test.txt' mode='r' encoding='UTF-8'>"
      ]
     },
     "execution_count": 9,
     "metadata": {},
     "output_type": "execute_result"
    }
   ],
   "source": [
    "f = open('test.txt', 'r')\n",
    "f"
   ]
  },
  {
   "cell_type": "code",
   "execution_count": 10,
   "metadata": {},
   "outputs": [],
   "source": [
    "data = f.read(5)"
   ]
  },
  {
   "cell_type": "code",
   "execution_count": 11,
   "metadata": {},
   "outputs": [
    {
     "data": {
      "text/plain": [
       "' worl'"
      ]
     },
     "execution_count": 11,
     "metadata": {},
     "output_type": "execute_result"
    }
   ],
   "source": [
    "# 순차적으로 읽어들임\n",
    "f.read(5)"
   ]
  },
  {
   "cell_type": "code",
   "execution_count": 12,
   "metadata": {},
   "outputs": [],
   "source": [
    "# 파일은 한 번 열면 꼭 닫아줘야함 (자원 해제 → 다른 프로그램에서 동시에 호출하면 에러 발생)\n",
    "f.close()"
   ]
  },
  {
   "cell_type": "markdown",
   "metadata": {},
   "source": [
    "### `with open....`\n",
    "- `with open(파일, 모드) as f:\n",
    "    - open 함수 기능이 유지되는 블록을 사용하여 파일을 자동으로 열고 닫는다."
   ]
  },
  {
   "cell_type": "code",
   "execution_count": 15,
   "metadata": {},
   "outputs": [
    {
     "data": {
      "text/plain": [
       "'hello world!'"
      ]
     },
     "execution_count": 15,
     "metadata": {},
     "output_type": "execute_result"
    }
   ],
   "source": [
    "with open('test.txt', 'r') as f:\n",
    "    data = f.read()\n",
    "\n",
    "data"
   ]
  },
  {
   "cell_type": "markdown",
   "metadata": {},
   "source": [
    "#### read 함수\n",
    "- `read` : 파일을 읽어서 문자열로 반환한다.\n",
    "- `readline` : 파일의 한 줄을 읽어서 문자열로 반환한다.\n",
    "- `readlines` : 파일의 모든 줄을 읽어서 문자열 리스트로 반환한다.\n"
   ]
  },
  {
   "cell_type": "code",
   "execution_count": 16,
   "metadata": {},
   "outputs": [
    {
     "data": {
      "text/plain": [
       "['Hello World!', 'Welcome Hufs!', 'Adieu class!']"
      ]
     },
     "execution_count": 16,
     "metadata": {},
     "output_type": "execute_result"
    }
   ],
   "source": [
    "with open('test.txt', 'r') as f:\n",
    "    data = f.readlines()\n",
    "    data = [line.strip() for line in data]\n",
    "\n",
    "data"
   ]
  },
  {
   "cell_type": "markdown",
   "metadata": {},
   "source": [
    "### 파일을 열 때 유의점\n",
    "- 같은 위치에 있는 파일을 읽을 때에는 파일의 위치를 지정하지 않아도 된다.\n",
    "- 다른 위치에 있는 파일을 읽을 때에는 파일의 위치를 지정해야 한다.\n",
    "    - `./` : 현재 위치\n",
    "    - `../` : 상위 디렉터리"
   ]
  },
  {
   "cell_type": "markdown",
   "metadata": {},
   "source": [
    "## 파일 쓰기"
   ]
  },
  {
   "cell_type": "code",
   "execution_count": 17,
   "metadata": {},
   "outputs": [],
   "source": [
    "file = 'test2'\n",
    "\n",
    "f = open(file, 'w', encoding='utf-8')"
   ]
  },
  {
   "cell_type": "code",
   "execution_count": 18,
   "metadata": {},
   "outputs": [],
   "source": [
    "for i in range(10):\n",
    "    data = f'{i}번째 줄입니다. \\n'\n",
    "    f.write(data)\n",
    "\n",
    "f.close()"
   ]
  },
  {
   "cell_type": "code",
   "execution_count": 20,
   "metadata": {},
   "outputs": [],
   "source": [
    "# print 함수를 이용한 쓰기\n",
    "f = open(file, 'a')\n",
    "print('새로운 줄 추가', file = f)\n",
    "\n",
    "f.close()"
   ]
  },
  {
   "cell_type": "markdown",
   "metadata": {},
   "source": [
    "### 다른 디렉터리에 파일 쓰기\n",
    "- os 활용"
   ]
  },
  {
   "cell_type": "code",
   "execution_count": 21,
   "metadata": {},
   "outputs": [],
   "source": [
    "import os"
   ]
  },
  {
   "cell_type": "code",
   "execution_count": 22,
   "metadata": {},
   "outputs": [
    {
     "ename": "FileNotFoundError",
     "evalue": "[Errno 2] No such file or directory: '.folder1/test3.txt'",
     "output_type": "error",
     "traceback": [
      "\u001b[1;31m---------------------------------------------------------------------------\u001b[0m",
      "\u001b[1;31mFileNotFoundError\u001b[0m                         Traceback (most recent call last)",
      "\u001b[1;32m~\\AppData\\Local\\Temp/ipykernel_28120/2401436537.py\u001b[0m in \u001b[0;36m<module>\u001b[1;34m\u001b[0m\n\u001b[0;32m      1\u001b[0m \u001b[0mfile\u001b[0m \u001b[1;33m=\u001b[0m \u001b[1;34m'.folder1/test3.txt'\u001b[0m\u001b[1;33m\u001b[0m\u001b[1;33m\u001b[0m\u001b[0m\n\u001b[1;32m----> 2\u001b[1;33m \u001b[0mf\u001b[0m \u001b[1;33m=\u001b[0m \u001b[0mopen\u001b[0m\u001b[1;33m(\u001b[0m\u001b[0mfile\u001b[0m\u001b[1;33m,\u001b[0m \u001b[1;34m'w'\u001b[0m\u001b[1;33m,\u001b[0m \u001b[0mencoding\u001b[0m\u001b[1;33m=\u001b[0m\u001b[1;34m'utf-8'\u001b[0m\u001b[1;33m)\u001b[0m\u001b[1;33m\u001b[0m\u001b[1;33m\u001b[0m\u001b[0m\n\u001b[0m",
      "\u001b[1;31mFileNotFoundError\u001b[0m: [Errno 2] No such file or directory: '.folder1/test3.txt'"
     ]
    }
   ],
   "source": [
    "file = '.folder1/test3.txt'\n",
    "f = open(file, 'w', encoding='utf-8')"
   ]
  },
  {
   "cell_type": "code",
   "execution_count": 23,
   "metadata": {},
   "outputs": [],
   "source": [
    "# 폴더 만들기\n",
    "os.mkdir('folder1')"
   ]
  },
  {
   "cell_type": "code",
   "execution_count": 25,
   "metadata": {},
   "outputs": [],
   "source": [
    "#파일 쓰기\n",
    "file = './folder1/test3.txt'\n",
    "f = open(file, 'w', encoding='utf-8')\n",
    "f.close()"
   ]
  },
  {
   "cell_type": "code",
   "execution_count": 27,
   "metadata": {},
   "outputs": [],
   "source": [
    "# 폴더가 없을 때에만 만들게 하는법\n",
    "if not os.path.isdir('folder1'):\n",
    "    os.mkdir('folder1')"
   ]
  },
  {
   "cell_type": "code",
   "execution_count": 28,
   "metadata": {},
   "outputs": [
    {
     "data": {
      "text/plain": [
       "True"
      ]
     },
     "execution_count": 28,
     "metadata": {},
     "output_type": "execute_result"
    }
   ],
   "source": [
    "os.path.exists(file) # assert 느낌으로..."
   ]
  },
  {
   "cell_type": "markdown",
   "metadata": {},
   "source": [
    "#### 파일, 폴더 지우기\n",
    "- `os.remove(file_name)`\n",
    "- `os.rmdir(dir_name)`\n"
   ]
  },
  {
   "cell_type": "markdown",
   "metadata": {},
   "source": [
    "##### 이래도 안된다면...? 강제삭제!\n",
    "- `import shutil`\n",
    "- `shutil.rmtree('folder1')`"
   ]
  },
  {
   "cell_type": "markdown",
   "metadata": {},
   "source": [
    "##### 상위폴더에 쓰고싶다...\n",
    "- `os.getcwd()`\n",
    "- `os.chdir('..')`"
   ]
  },
  {
   "cell_type": "markdown",
   "metadata": {},
   "source": [
    "#### 실습\n",
    "- 폴더 새로 만들고\n",
    "- 파일 쓰고 (내용은 아무거나)\n",
    "- 열기"
   ]
  },
  {
   "cell_type": "code",
   "execution_count": 32,
   "metadata": {},
   "outputs": [
    {
     "data": {
      "text/plain": [
       "['고급파이썬프로그래밍']"
      ]
     },
     "execution_count": 32,
     "metadata": {},
     "output_type": "execute_result"
    }
   ],
   "source": [
    "# 폴더 생성\n",
    "if not os.path.isdir('folder2'):\n",
    "    os.mkdir('folder2')\n",
    "\n",
    "# 파일 작성\n",
    "file = './folder2/test4.txt'\n",
    "f = open(file, 'w', encoding= 'utf-8')\n",
    "print('고급파이썬프로그래밍', file = f)\n",
    "\n",
    "f.close()\n",
    "\n",
    "# 파일 읽기\n",
    "with open('folder2/test4.txt', 'r') as f:\n",
    "    data = f.readlines()\n",
    "    data = [line.strip() for line in data]\n",
    "\n",
    "data"
   ]
  },
  {
   "cell_type": "markdown",
   "metadata": {},
   "source": [
    "#### pickle\n",
    "- 객체를 파일에 저장하고 불러오는 기능\n",
    "- 저장: `pickle.dump(변수, 파일명)`\n",
    "- 불러오기: `변수명 = pickle.load(파일명)`"
   ]
  },
  {
   "cell_type": "code",
   "execution_count": 39,
   "metadata": {},
   "outputs": [],
   "source": [
    "num = list(range(10))\n",
    "\n",
    "import pickle\n",
    "\n",
    "f = open('test.pickle', 'wb')\n",
    "pickle.dump(num, f)\n",
    "f.close\n",
    "\n",
    "with open('test.pickle', 'rb') as f:\n",
    "    number = pickle.load(f)"
   ]
  }
 ],
 "metadata": {
  "interpreter": {
   "hash": "0cde927a3fc68528603a9eb672f1b77cbd33bc34260ace83250f795a34cc6dac"
  },
  "kernelspec": {
   "display_name": "Python 3.9.7 ('base')",
   "language": "python",
   "name": "python3"
  },
  "language_info": {
   "codemirror_mode": {
    "name": "ipython",
    "version": 3
   },
   "file_extension": ".py",
   "mimetype": "text/x-python",
   "name": "python",
   "nbconvert_exporter": "python",
   "pygments_lexer": "ipython3",
   "version": "3.9.7"
  },
  "orig_nbformat": 4
 },
 "nbformat": 4,
 "nbformat_minor": 2
}

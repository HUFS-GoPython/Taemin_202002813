{
 "cells": [
  {
   "cell_type": "markdown",
   "id": "44510f27",
   "metadata": {},
   "source": [
    "## input\n",
    "- console에서 사용자에게 값을 입력 받는 함수\n",
    "- 입출력과 관련됨\n",
    "- 입력 받는 값의 타입은 문자열(str)"
   ]
  },
  {
   "cell_type": "code",
   "execution_count": 1,
   "id": "09bd7783",
   "metadata": {},
   "outputs": [
    {
     "data": {
      "text/plain": [
       "'Lee'"
      ]
     },
     "execution_count": 1,
     "metadata": {},
     "output_type": "execute_result"
    }
   ],
   "source": [
    "input(\"What's your name?\")"
   ]
  },
  {
   "cell_type": "code",
   "execution_count": 2,
   "id": "488845ab",
   "metadata": {},
   "outputs": [],
   "source": [
    "#1.\n",
    "name = input(\"What's your name?\")"
   ]
  },
  {
   "cell_type": "code",
   "execution_count": 3,
   "id": "30cce30d",
   "metadata": {},
   "outputs": [
    {
     "data": {
      "text/plain": [
       "'Lee'"
      ]
     },
     "execution_count": 3,
     "metadata": {},
     "output_type": "execute_result"
    }
   ],
   "source": [
    "name"
   ]
  },
  {
   "cell_type": "code",
   "execution_count": 5,
   "id": "a3213623",
   "metadata": {},
   "outputs": [
    {
     "name": "stdout",
     "output_type": "stream",
     "text": [
      "What's your name?\n"
     ]
    }
   ],
   "source": [
    "#2.\n",
    "print(\"What's your name?\")\n",
    "name = input()"
   ]
  },
  {
   "cell_type": "code",
   "execution_count": 6,
   "id": "b4f4febb",
   "metadata": {},
   "outputs": [
    {
     "name": "stdout",
     "output_type": "stream",
     "text": [
      "Lee\n"
     ]
    }
   ],
   "source": [
    "print(name)"
   ]
  },
  {
   "cell_type": "markdown",
   "id": "753a63bc",
   "metadata": {},
   "source": [
    "input을 str이 아닌 다른 타입으로 사용하고 싶을 때는 형 변환을 미리 해준다"
   ]
  },
  {
   "cell_type": "code",
   "execution_count": 9,
   "id": "cb853223",
   "metadata": {},
   "outputs": [
    {
     "name": "stdout",
     "output_type": "stream",
     "text": [
      "24\n"
     ]
    }
   ],
   "source": [
    "age = int(input(\"How old are you?\"))\n",
    "print(age)"
   ]
  },
  {
   "cell_type": "code",
   "execution_count": 11,
   "id": "c2056d62",
   "metadata": {},
   "outputs": [
    {
     "name": "stdout",
     "output_type": "stream",
     "text": [
      "당신이 태어난 해는 1999 년 입니다\n"
     ]
    }
   ],
   "source": [
    "print('당신이 태어난 해는', 2022 - age + 1, '년 입니다') #연산이 가능해짐"
   ]
  },
  {
   "cell_type": "markdown",
   "id": "6fc17bc7",
   "metadata": {},
   "source": [
    "printing"
   ]
  },
  {
   "cell_type": "code",
   "execution_count": null,
   "id": "3fc0ab05",
   "metadata": {},
   "outputs": [],
   "source": []
  },
  {
   "cell_type": "markdown",
   "id": "85185d51",
   "metadata": {},
   "source": [
    "### Quiz 1\n",
    "- 택배 정보를 입력 받고 무게에 따른 값 산정하기\n",
    "    - 수취인 성명: \n",
    "    - 수취인 주소:\n",
    "    - 배송 비: 3000원\n",
    "    - 물건 비용: <계산된 값>원\n",
    "    - 총 합계: <계산된 값>원\n",
    "- 물건 비용은 무게(g) * 5\n",
    "- 입력값 = 이름, 주소, 무게"
   ]
  },
  {
   "cell_type": "markdown",
   "id": "388ae5d8",
   "metadata": {},
   "source": []
  },
  {
   "cell_type": "code",
   "execution_count": 17,
   "id": "f70aa74a",
   "metadata": {},
   "outputs": [
    {
     "name": "stdout",
     "output_type": "stream",
     "text": [
      "수취인 성명: 이태민\n",
      "수취인 주소:  서울특별시\n",
      "배송비:  3000 원\n",
      "물건 비용: 2000 원\n",
      "총합계: 5000 원\n"
     ]
    }
   ],
   "source": [
    "name = str(input()) # 이태민 입력\n",
    "address = str(input()) # 서울특별시 입력\n",
    "weight  = int(input())  # 400 입력\n",
    "price = weight * 5 # 2000원 출력\n",
    "fee = 3000\n",
    "\n",
    "print(\"수취인 성명:\", name, sep=' ',end='\\n')\n",
    "print(\"수취인 주소: \", address, sep=' ',end='\\n')\n",
    "print(\"배송비: \", fee, \"원\",  sep=' ',end='\\n')\n",
    "print(\"물건 비용:\", price, \"원\",  sep=' ',end='\\n')\n",
    "print(\"총합계:\", price + fee , \"원\",  sep=' ',end='\\n')"
   ]
  },
  {
   "cell_type": "code",
   "execution_count": null,
   "id": "ef088069",
   "metadata": {},
   "outputs": [],
   "source": []
  }
 ],
 "metadata": {
  "kernelspec": {
   "display_name": "Python 3 (ipykernel)",
   "language": "python",
   "name": "python3"
  },
  "language_info": {
   "codemirror_mode": {
    "name": "ipython",
    "version": 3
   },
   "file_extension": ".py",
   "mimetype": "text/x-python",
   "name": "python",
   "nbconvert_exporter": "python",
   "pygments_lexer": "ipython3",
   "version": "3.10.2"
  }
 },
 "nbformat": 4,
 "nbformat_minor": 5
}

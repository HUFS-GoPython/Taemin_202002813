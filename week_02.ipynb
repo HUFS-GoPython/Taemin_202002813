{
 "cells": [
  {
   "cell_type": "markdown",
   "metadata": {},
   "source": [
    "### 자료형을 변환하는 법\n",
    "- 변환하려는 변수를 바꾸려는 자료형으로 덮어씌워준다\n",
    "- 이때, str형을 int나 float형으로 바꿀 때에는 변수의 값과 알맞는 자료형으로 바꿀 수 있다."
   ]
  },
  {
   "cell_type": "code",
   "execution_count": 1,
   "id": "6e969ac8",
   "metadata": {},
   "outputs": [
    {
     "data": {
      "text/plain": [
       "int"
      ]
     },
     "execution_count": 1,
     "metadata": {},
     "output_type": "execute_result"
    }
   ],
   "source": [
    "#exercise\n",
    "exercise1 = 10\n",
    "type(exercise1)"
   ]
  },
  {
   "cell_type": "code",
   "execution_count": 2,
   "metadata": {},
   "outputs": [
    {
     "data": {
      "text/plain": [
       "int"
      ]
     },
     "execution_count": 2,
     "metadata": {},
     "output_type": "execute_result"
    }
   ],
   "source": [
    "int(exercise1)\n",
    "type(exercise1)"
   ]
  },
  {
   "cell_type": "code",
   "execution_count": 3,
   "metadata": {},
   "outputs": [
    {
     "data": {
      "text/plain": [
       "str"
      ]
     },
     "execution_count": 3,
     "metadata": {},
     "output_type": "execute_result"
    }
   ],
   "source": [
    "exercise2 = '88.7'\n",
    "type(exercise2)"
   ]
  },
  {
   "cell_type": "code",
   "execution_count": 4,
   "metadata": {},
   "outputs": [
    {
     "ename": "ValueError",
     "evalue": "invalid literal for int() with base 10: '88.7'",
     "output_type": "error",
     "traceback": [
      "\u001b[1;31m---------------------------------------------------------------------------\u001b[0m",
      "\u001b[1;31mValueError\u001b[0m                                Traceback (most recent call last)",
      "\u001b[1;32mc:\\Users\\samsu\\TaeminLee_202002813\\TaeminLee_202002813\\week_02.ipynb Cell 5'\u001b[0m in \u001b[0;36m<cell line: 1>\u001b[1;34m()\u001b[0m\n\u001b[1;32m----> <a href='vscode-notebook-cell:/c%3A/Users/samsu/TaeminLee_202002813/TaeminLee_202002813/week_02.ipynb#ch0000004?line=0'>1</a>\u001b[0m \u001b[39mint\u001b[39;49m(exercise2)\n",
      "\u001b[1;31mValueError\u001b[0m: invalid literal for int() with base 10: '88.7'"
     ]
    }
   ],
   "source": [
    "int(exercise2) # 이렇게 에러가 생긴다..."
   ]
  },
  {
   "cell_type": "markdown",
   "metadata": {},
   "source": [
    "## `print ` 함수의 사용법\n",
    "- 꼭꼭꼭 띄어쓰기를 해야한다\n",
    "- 소괄호 내에서 +를 사용하여 문자열 연산을 하면 원소간의 공백이 사라진다.\n",
    "- sep 옵션을 사용하면, 선언한 변수 사이에 다른 값을 넣을 수 있다. 물론 띄어쓰기도 이렇게 구현할 수 있다.\n",
    "    - `sep=' '`라고 쓰면 띄워쓰기가 될 것이다.\n",
    "- end 옵션을 사용하면, 출력하는 문장을 어떻게 끝낼 지 정할 수 있다.\n",
    "    - `end='\\n'`라고 쓰면 개행이 될 수 있다.\n",
    "- `\\n`과 같은 것은 이스케이프 문자라고 한다. 주로 쓰는걸 나열해보겠다.\n",
    "    - `\\n`: 개행, `\\t`: 탭간격, `\\\\` \\를 그대로 표현할 때, `\\'(\")`: '(\")을(를) 그대로 표현할 때"
   ]
  },
  {
   "cell_type": "code",
   "execution_count": 5,
   "metadata": {},
   "outputs": [
    {
     "name": "stdout",
     "output_type": "stream",
     "text": [
      "LeeTaemin990614\n",
      "Lee Taemin 990614\n"
     ]
    }
   ],
   "source": [
    "Name = 'Taemin'\n",
    "Surname = 'Lee'\n",
    "Birth = '990614'\n",
    "\n",
    "print(Surname + Name + Birth)\n",
    "print(Surname, Name, Birth, sep=' ', end='\\n')"
   ]
  },
  {
   "cell_type": "markdown",
   "metadata": {},
   "source": [
    "## 개행을 하기 귀찮다면...\n",
    " - ;를 사용하면 된다."
   ]
  },
  {
   "cell_type": "code",
   "execution_count": 6,
   "metadata": {},
   "outputs": [
    {
     "name": "stdout",
     "output_type": "stream",
     "text": [
      "KTIphone\n"
     ]
    }
   ],
   "source": [
    "Carrier = 'KT'; Phone ='Iphone'; print(Carrier + Phone)"
   ]
  },
  {
   "cell_type": "markdown",
   "metadata": {},
   "source": [
    "## `input`\n",
    "- 사용자에게 입력을 받는 함수\n",
    "    - 입출력과 관련됨\n",
    "        - str값을 받음"
   ]
  },
  {
   "cell_type": "code",
   "execution_count": 7,
   "metadata": {},
   "outputs": [
    {
     "name": "stdout",
     "output_type": "stream",
     "text": [
      "Taemin\n"
     ]
    },
    {
     "data": {
      "text/plain": [
       "str"
      ]
     },
     "execution_count": 7,
     "metadata": {},
     "output_type": "execute_result"
    }
   ],
   "source": [
    "name = input(\"Name?\")\n",
    "print(name)\n",
    "type(name)"
   ]
  },
  {
   "cell_type": "markdown",
   "metadata": {},
   "source": [
    "- str이 아닌 타입으로 사용하고 싶다면...\n",
    "    - 형 변환을 미리 해주면 된다!"
   ]
  },
  {
   "cell_type": "code",
   "execution_count": 8,
   "metadata": {},
   "outputs": [
    {
     "name": "stdout",
     "output_type": "stream",
     "text": [
      "202002813\n"
     ]
    },
    {
     "data": {
      "text/plain": [
       "int"
      ]
     },
     "execution_count": 8,
     "metadata": {},
     "output_type": "execute_result"
    }
   ],
   "source": [
    "number = int(input(\"Student Number?\"))\n",
    "print(number)\n",
    "type(number)"
   ]
  },
  {
   "cell_type": "markdown",
   "metadata": {},
   "source": [
    "## Boolean\n",
    "- True / False를 판단하기 위한 자료형\n",
    "- 0이나 공백, none은 False로 처리함"
   ]
  },
  {
   "cell_type": "code",
   "execution_count": 9,
   "metadata": {},
   "outputs": [
    {
     "data": {
      "text/plain": [
       "False"
      ]
     },
     "execution_count": 9,
     "metadata": {},
     "output_type": "execute_result"
    }
   ],
   "source": [
    "bool(0)"
   ]
  },
  {
   "cell_type": "code",
   "execution_count": 10,
   "metadata": {},
   "outputs": [
    {
     "data": {
      "text/plain": [
       "False"
      ]
     },
     "execution_count": 10,
     "metadata": {},
     "output_type": "execute_result"
    }
   ],
   "source": [
    "bool('')"
   ]
  },
  {
   "cell_type": "code",
   "execution_count": 11,
   "metadata": {},
   "outputs": [
    {
     "data": {
      "text/plain": [
       "False"
      ]
     },
     "execution_count": 11,
     "metadata": {},
     "output_type": "execute_result"
    }
   ],
   "source": [
    "bool(None)"
   ]
  },
  {
   "cell_type": "markdown",
   "metadata": {},
   "source": [
    "## Integer (정수)\n",
    "- 음수는 -기호 붙여서\n",
    "- 그럼? 기본 값은 양수!\n",
    "- `_`를 인식하지 않으므로, 숫자를 구분하려면 언더바를 애용하자\n",
    "- 앞에 0이 붙으면 오류가 뜬다.|"
   ]
  },
  {
   "cell_type": "code",
   "execution_count": 11,
   "metadata": {},
   "outputs": [
    {
     "ename": "SyntaxError",
     "evalue": "leading zeros in decimal integer literals are not permitted; use an 0o prefix for octal integers (1638533394.py, line 1)",
     "output_type": "error",
     "traceback": [
      "\u001b[1;36m  Input \u001b[1;32mIn [11]\u001b[1;36m\u001b[0m\n\u001b[1;33m    error = 09\u001b[0m\n\u001b[1;37m            ^\u001b[0m\n\u001b[1;31mSyntaxError\u001b[0m\u001b[1;31m:\u001b[0m leading zeros in decimal integer literals are not permitted; use an 0o prefix for octal integers\n"
     ]
    }
   ],
   "source": [
    "error = 09"
   ]
  },
  {
   "cell_type": "markdown",
   "metadata": {},
   "source": [
    "## 연산자 (assignment operator)\n",
    "- 사칙연산과 같은 것도 (=, -, *, /) (0으로 나누는 것을 조심하자)\n",
    "- 아닌 것도 있음( **, //, %) (순서대로 거듭제곱, 몫, 나머지)\n",
    "- 연산자 사이의 공백은 무시되는데, 그렇다고 무지막지하게 띄워놓으면 이상한 취급 받을지도..."
   ]
  },
  {
   "cell_type": "code",
   "execution_count": 12,
   "metadata": {},
   "outputs": [
    {
     "name": "stdout",
     "output_type": "stream",
     "text": [
      "13\n",
      "5\n",
      "36\n",
      "2.25\n",
      "2\n",
      "1\n",
      "6561\n"
     ]
    }
   ],
   "source": [
    "alpha = 9\n",
    "beta = 4\n",
    "print(alpha + beta)\n",
    "print(alpha - beta)\n",
    "print(alpha * beta)\n",
    "print(alpha / beta)\n",
    "print(alpha // beta)\n",
    "print(alpha % beta)\n",
    "print(alpha ** beta)"
   ]
  },
  {
   "cell_type": "markdown",
   "metadata": {},
   "source": [
    "## 복합 대입 연산자(compound assignment operator)\n",
    "- 하나의 변수에 반복된 연산을 필요로 할 때 사용\n",
    "- 중간에 임시 변수를 활용하여 연산을 시행한다고 생각하면 이해가 될 것."
   ]
  },
  {
   "cell_type": "code",
   "execution_count": 13,
   "metadata": {},
   "outputs": [
    {
     "name": "stdout",
     "output_type": "stream",
     "text": [
      "2\n"
     ]
    }
   ],
   "source": [
    "# 이렇게 쓰는 식을\n",
    "variant = 5\n",
    "variant = variant - 3\n",
    "print(variant)"
   ]
  },
  {
   "cell_type": "code",
   "execution_count": 14,
   "metadata": {},
   "outputs": [
    {
     "name": "stdout",
     "output_type": "stream",
     "text": [
      "2\n"
     ]
    }
   ],
   "source": [
    "# 이렇게 간단하게!\n",
    "variant = 5\n",
    "variant -= 3\n",
    "print(variant)"
   ]
  },
  {
   "cell_type": "markdown",
   "metadata": {},
   "source": [
    "- `+=`, `-=`, `*=`, `/=`로도 사용 가능하다."
   ]
  },
  {
   "cell_type": "markdown",
   "metadata": {},
   "source": [
    "## 비교 연산자 (Comparison Operator)\n",
    "- 대소관계, 참/거짓 관계를 나타내기 위한 연산자\n",
    "- `x == y`: x와 y가 같다 (값)\n",
    "- `x != y`: x와 y가 다르다 (값)\n",
    "- `x is y`: x와 y가 같다 (메모리 주소)\n",
    "- `x is not y`: x와 y가 다르다 (메모리 주소)\n",
    "- `x > y`: x가 y를 초과한다\n",
    "- `x < y`: x가 y 미만이다\n",
    "- `x >= y`: x가 y 초과이다\n",
    "- `x <= y`: x가 y 미만이다"
   ]
  },
  {
   "cell_type": "markdown",
   "metadata": {},
   "source": [
    "### 지수 표현\n",
    "- (소수, 정수)(e, E)(정수) 순으로 작성\n",
    "- 뒷부분이 양수면 10의 자릿수를 음수면 소수점의 자리수를 뜻함"
   ]
  },
  {
   "cell_type": "code",
   "execution_count": 15,
   "metadata": {},
   "outputs": [
    {
     "data": {
      "text/plain": [
       "10000.0"
      ]
     },
     "execution_count": 15,
     "metadata": {},
     "output_type": "execute_result"
    }
   ],
   "source": [
    "1.0e4"
   ]
  },
  {
   "cell_type": "code",
   "execution_count": 16,
   "metadata": {},
   "outputs": [
    {
     "data": {
      "text/plain": [
       "0.00040066"
      ]
     },
     "execution_count": 16,
     "metadata": {},
     "output_type": "execute_result"
    }
   ],
   "source": [
    "4.0066E-4"
   ]
  },
  {
   "cell_type": "markdown",
   "metadata": {},
   "source": [
    "## IF... (만약...)\n",
    "- 조건에 따라 다른 코드를 실행할 수 있게 하는 것\n",
    "- 논리 구조 차원에서 생각해보면, 만약 무엇무엇이라면 무엇이고, 아니면 저것이다.\n",
    "- if 조건문 뒤에는 꼭꼭 콜론(:)을 붙인다. (파이썬의 많은 부분에서 콜론을 붙이는 경우가 있다.)\n",
    "- elif는 조건이 여러개일 때 사용한다.\n",
    "- if <조건식>:\n",
    "   - <실행할 코드>\n",
    "- (elif:\n",
    "    - <실행할 코드>)\n",
    "- else:\n",
    "    - <실핼할 코드>"
   ]
  },
  {
   "cell_type": "code",
   "execution_count": 17,
   "metadata": {},
   "outputs": [
    {
     "name": "stdout",
     "output_type": "stream",
     "text": [
      "헌내기입니다.\n"
     ]
    }
   ],
   "source": [
    "#if를 사용한 조건식\n",
    "enroll_year = int(input(\"입학연도를 입력하세요.\"))\n",
    "\n",
    "if enroll_year == 2022:\n",
    "    print(\"새내기입니다.\")\n",
    "else:\n",
    "    print(\"헌내기입니다.\")"
   ]
  },
  {
   "cell_type": "code",
   "execution_count": 18,
   "metadata": {},
   "outputs": [
    {
     "name": "stdout",
     "output_type": "stream",
     "text": [
      "C학점 입니다.\n"
     ]
    }
   ],
   "source": [
    "#elif를 사용한 조건식\n",
    "score = int(input(\"점수를 입력하세요.\"))\n",
    "\n",
    "if score >= 90:\n",
    "    print(\"A학점 입니다.\")\n",
    "elif score >= 80:\n",
    "    print(\"B학점 입니다.\")\n",
    "elif score >= 70:\n",
    "    print(\"C학점 입니다.\")\n",
    "elif score >= 70:\n",
    "    print(\"D학점 입니다.\")\n",
    "else:\n",
    "    print(\"F학점입니다.\")"
   ]
  },
  {
   "cell_type": "markdown",
   "metadata": {},
   "source": [
    "## 코드 짜는 팁\n",
    "- 주석 달기\n",
    "    - `#` 를 사용한다( 적당히 짧다면... for 코드 인식을 방지)\n",
    "    - 코드에 대한 설명보다는 의도나 오류 alert용으로 사용하는 경우가 많다.\n",
    "    - 코드에 설명을 한다면... 좋은 코드가 아닌 것이다.\n",
    "    - 주석이 너무 길다면 \"\"\"를 사용한다.\n",
    "    - 문자열 안에 있는 #은 부호이다.\n",
    "\n",
    "\n",
    "- 라인을 유지하기\n",
    "    - 들여쓰기(tab키를 사용하면 편한데, space 4번 치는게 디폴트값이다.)\n",
    "    - 논리 구조를 나타내는데 쓰이므로 굉장히 중요하다.\n",
    "    - 수적이 너무 길면(보통 80자 이상) 백슬래시를 사용한다."
   ]
  },
  {
   "cell_type": "code",
   "execution_count": 19,
   "metadata": {},
   "outputs": [
    {
     "name": "stdout",
     "output_type": "stream",
     "text": [
      "3\n",
      "# comma ###\n"
     ]
    }
   ],
   "source": [
    "coke = 3 #주석입니다.\n",
    "\"\"\"\n",
    "주석1\n",
    "주석2\n",
    "주석3\n",
    "\"\"\"\n",
    "print(coke)\n",
    "print('# comma ###')"
   ]
  }
 ],
 "metadata": {
  "interpreter": {
   "hash": "b302213839ca7bdc6112edd7d75f3de6aacacf866e79e9f34d5b12ab50ac755c"
  },
  "kernelspec": {
   "display_name": "Python 3.10.2 64-bit",
   "language": "python",
   "name": "python3"
  },
  "language_info": {
   "codemirror_mode": {
    "name": "ipython",
    "version": 3
   },
   "file_extension": ".py",
   "mimetype": "text/x-python",
   "name": "python",
   "nbconvert_exporter": "python",
   "pygments_lexer": "ipython3",
   "version": "3.10.2"
  },
  "orig_nbformat": 4
 },
 "nbformat": 4,
 "nbformat_minor": 2
}

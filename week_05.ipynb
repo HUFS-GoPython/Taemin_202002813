{
 "cells": [
  {
   "cell_type": "markdown",
   "metadata": {},
   "source": [
    "### Quiz 3 Review\n",
    "- 1번, 5번은 캡쳐를 못했다..."
   ]
  },
  {
   "cell_type": "markdown",
   "metadata": {},
   "source": [
    "#### 2번 (풀었었음)\n",
    "- 문자열을 나눠 list에 저장하고, list를 이용하여 출력 예시와 같게 출력하기 위한 프로그램을 만드시오\n",
    "    - 출력 예시: Shakespeare's Four Great Tragedies: Hamlet, Othello, King Lear, Macbeth"
   ]
  },
  {
   "cell_type": "code",
   "execution_count": 2,
   "metadata": {},
   "outputs": [
    {
     "name": "stdout",
     "output_type": "stream",
     "text": [
      "Shakespeare's four Great Tragedies: Hamlet , Othello , King Lear , Macbeth\n"
     ]
    }
   ],
   "source": [
    "book = 'Hamlet & Othello & King Lear & Macbeth'\n",
    "book_list = (',').join(book.split('&'))\n",
    "book_string = 'Shakespeare\\'s four Great Tragedies:'\n",
    "print(f'{book_string} {book_list}')"
   ]
  },
  {
   "cell_type": "markdown",
   "metadata": {},
   "source": [
    "#### 3번 (못풀었음)\n",
    "- 다음의 규칙을 따르는 프로그램이 있다고 하자.\n",
    "    - A. 주어진 수가 10보다 작다면 앞에 0을 붙여 두 자리 수로 만들고, 각 자리의 숫자를 더한다.\n",
    "    - B. 그 다음, 주어진 수의 가장 오른쪽 자리 수와 앞에서 구한 합의 가장 오른쪽 자리 수를 이어 붙이면 새로운 수를 만들 수 있다.\n",
    "- 예를 들어, 26은 2+6=8이다. 새로운 수는 68이다. 6+8=14이다. 새로운 수는 84이다. 8+4=12이다. 새로운 수는 42이다. 4+2는 6이다. 새로운 수는 26이다. 따라서 26은 4번만에 원래 수로 돌아올 수 있다. 따라서 26의 사이클의 길이는 4이다.\n",
    "- n이 주어졌을 때, n의 사이클의 길이를 구하는 프로그램을 작성하시오."
   ]
  },
  {
   "cell_type": "code",
   "execution_count": 13,
   "metadata": {},
   "outputs": [
    {
     "name": "stdout",
     "output_type": "stream",
     "text": [
      "4\n"
     ]
    }
   ],
   "source": [
    "n = int(input())\n",
    "num = n\n",
    "count = 0\n",
    "\n",
    "while True:\n",
    "    digit1 = num // 10\n",
    "    digit2 = num % 10\n",
    "    temp = (digit1 + digit2) % 10\n",
    "    num = (digit2 *10) + temp\n",
    "\n",
    "    count += 1\n",
    "    if (num == n):\n",
    "        break\n",
    "    \n",
    "print(f'사이클 수: {count}')"
   ]
  },
  {
   "cell_type": "markdown",
   "metadata": {},
   "source": [
    "#### 4번 (풀었으나, 오류 있었음)\n",
    "- 두 수의 최대공약수와 최소공배수를 구하는 함수를 짜시오."
   ]
  },
  {
   "cell_type": "code",
   "execution_count": 5,
   "metadata": {},
   "outputs": [
    {
     "name": "stdout",
     "output_type": "stream",
     "text": [
      "최대공약수: 2\n",
      "최소공배수: 6\n"
     ]
    }
   ],
   "source": [
    "int_1 = int(input())\n",
    "int_2 = int(input())\n",
    "\n",
    "def gcd (int_1, int_2):\n",
    "    while int_2 > 0:\n",
    "        int_1, int_2 = int_2, int_1 % int_2\n",
    "    return int_1\n",
    "\n",
    "def lcm (int_1, int_2):\n",
    "    return int(int_1 * int_2) // gcd(int_1, int_2)\n",
    "\n",
    "print(f'최대공약수: {gcd(int_1, int_2)}')\n",
    "print(f'최소공배수: {lcm(int_1, int_2)}')"
   ]
  },
  {
   "cell_type": "markdown",
   "metadata": {},
   "source": [
    "#### 6번 (못풀었음)\n",
    "- 팩토리얼을 구한 뒤, 결과값의 맨 마지막 자리에서 시작해서 처음으로 0이 아닌 숫자가 나올 때까지 0의 개수를 구하는 함수를 만드시오.\n",
    "    - 팩토리얼의 구조 상 0이 나오려면 10의 배수가 되어야 하는데, 10의 배수는 소인수분해시 (5*2)로 묶을 수 있는게 하나 이상 있어야 한다.\n",
    "    - 5는 5의 배수에서만 곱할 수 있고, 2는 짝수를 팩토리얼 할 때 하나씩 떼올 수 있다.\n",
    "    - 따라서 주어진 수를 5로 나누었을 때의 몫을 구하면 된다."
   ]
  },
  {
   "cell_type": "code",
   "execution_count": 8,
   "metadata": {},
   "outputs": [
    {
     "name": "stdout",
     "output_type": "stream",
     "text": [
      "0의 개수:1\n"
     ]
    }
   ],
   "source": [
    "num = int(input())\n",
    "\n",
    "count = 0\n",
    "while num >= 5:\n",
    "    count += num // 5\n",
    "    num //= 5\n",
    "    \n",
    "print(f'0의 개수:{count}')"
   ]
  },
  {
   "cell_type": "markdown",
   "metadata": {},
   "source": [
    "#### 7번 (풀었었음)\n",
    "- 별찍기 프로그램 (정삼각형, 역방향)"
   ]
  },
  {
   "cell_type": "code",
   "execution_count": 2,
   "metadata": {},
   "outputs": [
    {
     "name": "stdout",
     "output_type": "stream",
     "text": [
      "*********\n",
      " *******\n",
      "  *****\n",
      "   ***\n",
      "    *\n"
     ]
    }
   ],
   "source": [
    "num = int(input())\n",
    "for int in range(num,0,-1):\n",
    "    print(\" \"*(num-int)+\"*\"*(int*2-1))"
   ]
  },
  {
   "cell_type": "markdown",
   "metadata": {},
   "source": [
    "## 반복문\n",
    "- for, while\n",
    "\n",
    "### While\n",
    "- 어떤 조건이 만족할 때까지 블록을 수행함.\n",
    "- 해당 조건이 거짓이면 수행을 멈춤\n",
    "    - 언제 빠져나오는지 정확히 아는게 관건!\n",
    "- `for + if`\n",
    "\n",
    "#### for vs while\n",
    "- for loop: 반복 횟수를 정확히 알고, 그 횟수가 변하지 않을 때 사용한다.\n",
    "    - 예: 전체 학생 성적 산출\n",
    "- while loop: 반복횟수가 정확하지 않으나, 종료를 만족시킬 수 있는 조건이 있는 경우에 사용한다.\n",
    "    - 예: 가위바위보를 이겼을 때 종료한다거나..."
   ]
  },
  {
   "cell_type": "code",
   "execution_count": 27,
   "metadata": {},
   "outputs": [
    {
     "name": "stdout",
     "output_type": "stream",
     "text": [
      "0\n",
      "1\n",
      "2\n",
      "3\n",
      "4\n",
      "5\n"
     ]
    }
   ],
   "source": [
    "num = 0\n",
    "while num <= 5:\n",
    "    print(num)\n",
    "    num += 1\n",
    "# 마지막에 출력되는 값이 "
   ]
  },
  {
   "cell_type": "code",
   "execution_count": 29,
   "metadata": {},
   "outputs": [
    {
     "name": "stdout",
     "output_type": "stream",
     "text": [
      "a\n",
      "b\n",
      "c\n"
     ]
    }
   ],
   "source": [
    "characters = ['a', 'b', 'c']\n",
    "ch = 0\n",
    "while ch < len(characters):\n",
    "    print(characters[ch])\n",
    "    ch += 1"
   ]
  },
  {
   "cell_type": "markdown",
   "metadata": {},
   "source": [
    "### 반복문의 제어\n",
    "- 의도치 않게 코드를 종료시킬 수 있다는 점에서 되도록 사용하지 않는다. (그렇다고 모르는건 좀 쉽지않다)\n",
    "- break: 반복을 종료시킴. 시점을 잘 알고 쓰는게 중요\n",
    "- else: 어떤 조건이 \"완전히\" 끝났을 때 한번 더 실행하는 블록. break로 끝난 것과 구분 가능\n",
    "- continue: 특정 조건을 건더띄고 다음 조건을 수행함"
   ]
  },
  {
   "cell_type": "code",
   "execution_count": 40,
   "metadata": {},
   "outputs": [
    {
     "name": "stdout",
     "output_type": "stream",
     "text": [
      "0\n",
      "1\n",
      "2\n",
      "3\n",
      "4\n",
      "5\n",
      "6\n",
      "7\n",
      "8\n",
      "9\n"
     ]
    }
   ],
   "source": [
    "# 예시들의 제어 없이 사용할 때\n",
    "for i in range(10):\n",
    "    print(i)"
   ]
  },
  {
   "cell_type": "code",
   "execution_count": null,
   "metadata": {},
   "outputs": [
    {
     "name": "stdout",
     "output_type": "stream",
     "text": [
      "0\n",
      "1\n",
      "2\n",
      "3\n",
      "4\n",
      "5\n"
     ]
    }
   ],
   "source": [
    "# break의 사용 예시\n",
    "for i in range(10):\n",
    "    if i == 6:\n",
    "        break\n",
    "    print(i)"
   ]
  },
  {
   "cell_type": "code",
   "execution_count": 38,
   "metadata": {},
   "outputs": [
    {
     "name": "stdout",
     "output_type": "stream",
     "text": [
      "0\n",
      "1\n",
      "2\n",
      "3\n",
      "4\n",
      "5\n",
      "6\n",
      "7\n",
      "8\n",
      "9\n",
      "ended\n"
     ]
    }
   ],
   "source": [
    "# else의 사용 예시\n",
    "for i in range(10):\n",
    "    print(i)\n",
    "else:\n",
    "    print(\"ended\")"
   ]
  },
  {
   "cell_type": "code",
   "execution_count": 39,
   "metadata": {},
   "outputs": [
    {
     "name": "stdout",
     "output_type": "stream",
     "text": [
      "0\n",
      "1\n",
      "2\n",
      "3\n",
      "4\n",
      "5\n",
      "7\n",
      "8\n",
      "9\n"
     ]
    }
   ],
   "source": [
    "# continue의 사용 예시\n",
    "for i in range(10):\n",
    "    if i == 6:\n",
    "        continue\n",
    "    print(i)"
   ]
  },
  {
   "cell_type": "markdown",
   "metadata": {},
   "source": [
    "### 구구단\n",
    "- 1. for 혹은 while 선택한 뒤, n단을 입력받아서 출력한다.\n",
    "- 2. 1 ~ n단까지 출력한다.\n",
    "- 3. 시작단, 끝 단 둘다 입력받을 것\n",
    "    - 예: 4 ~ 7단\n",
    "    - 시작단이 끝단보다 작을 때 어떻게 처리할지\n",
    "- 4. 프로그램으로 만든다.\n",
    "    - 1) n단 2) 1~n단 3) n-m단\n",
    "    - 3번 n, m\n",
    "    - 메뉴에 없는 선택 처리"
   ]
  },
  {
   "cell_type": "code",
   "execution_count": 58,
   "metadata": {},
   "outputs": [
    {
     "name": "stdout",
     "output_type": "stream",
     "text": [
      "--------2단------------\n",
      "2 * 1 = 2\n",
      "2 * 2 = 4\n",
      "2 * 3 = 6\n",
      "2 * 4 = 8\n",
      "2 * 5 = 10\n",
      "2 * 6 = 12\n",
      "2 * 7 = 14\n",
      "2 * 8 = 16\n",
      "2 * 9 = 18\n",
      "-------------------------\n"
     ]
    }
   ],
   "source": [
    "# 구구단 1\n",
    "num1 = int(input(\"몇단을 외워볼까요? \"))\n",
    "\n",
    "print(f'--------{num1}단------------')\n",
    "for n in range(1, 10):\n",
    "    print(f'{num1} * {n} = {num1*n}')\n",
    "else:\n",
    "    print('-------------------------')"
   ]
  },
  {
   "cell_type": "code",
   "execution_count": 48,
   "metadata": {},
   "outputs": [
    {
     "name": "stdout",
     "output_type": "stream",
     "text": [
      "-----------1단------------\n",
      "1 * 1 = 1\n",
      "1 * 2 = 2\n",
      "1 * 3 = 3\n",
      "1 * 4 = 4\n",
      "1 * 5 = 5\n",
      "1 * 6 = 6\n",
      "1 * 7 = 7\n",
      "1 * 8 = 8\n",
      "1 * 9 = 9\n",
      "-----------2단------------\n",
      "2 * 1 = 2\n",
      "2 * 2 = 4\n",
      "2 * 3 = 6\n",
      "2 * 4 = 8\n",
      "2 * 5 = 10\n",
      "2 * 6 = 12\n",
      "2 * 7 = 14\n",
      "2 * 8 = 16\n",
      "2 * 9 = 18\n",
      "-----------3단------------\n",
      "3 * 1 = 3\n",
      "3 * 2 = 6\n",
      "3 * 3 = 9\n",
      "3 * 4 = 12\n",
      "3 * 5 = 15\n",
      "3 * 6 = 18\n",
      "3 * 7 = 21\n",
      "3 * 8 = 24\n",
      "3 * 9 = 27\n",
      "-----------4단------------\n",
      "4 * 1 = 4\n",
      "4 * 2 = 8\n",
      "4 * 3 = 12\n",
      "4 * 4 = 16\n",
      "4 * 5 = 20\n",
      "4 * 6 = 24\n",
      "4 * 7 = 28\n",
      "4 * 8 = 32\n",
      "4 * 9 = 36\n",
      "-----------5단------------\n",
      "5 * 1 = 5\n",
      "5 * 2 = 10\n",
      "5 * 3 = 15\n",
      "5 * 4 = 20\n",
      "5 * 5 = 25\n",
      "5 * 6 = 30\n",
      "5 * 7 = 35\n",
      "5 * 8 = 40\n",
      "5 * 9 = 45\n",
      "-------------------------\n"
     ]
    }
   ],
   "source": [
    "# 구구단 2\n",
    "num2 = int(input(\"몇단까지 외워볼까요? \"))\n",
    "\n",
    "for n in range(1, num2+1):\n",
    "    print(f'-----------{n}단------------')\n",
    "    for x in range(1,10):\n",
    "        print(f'{n} * {x} = {n*x}')\n",
    "else:\n",
    "    print('-------------------------')"
   ]
  },
  {
   "cell_type": "code",
   "execution_count": 54,
   "metadata": {},
   "outputs": [
    {
     "name": "stdout",
     "output_type": "stream",
     "text": [
      "------------4단------------\n",
      "4 * 1 = 4\n",
      "4 * 2 = 8\n",
      "4 * 3 = 12\n",
      "4 * 4 = 16\n",
      "4 * 5 = 20\n",
      "4 * 6 = 24\n",
      "4 * 7 = 28\n",
      "4 * 8 = 32\n",
      "4 * 9 = 36\n",
      "------------5단------------\n",
      "5 * 1 = 5\n",
      "5 * 2 = 10\n",
      "5 * 3 = 15\n",
      "5 * 4 = 20\n",
      "5 * 5 = 25\n",
      "5 * 6 = 30\n",
      "5 * 7 = 35\n",
      "5 * 8 = 40\n",
      "5 * 9 = 45\n",
      "------------6단------------\n",
      "6 * 1 = 6\n",
      "6 * 2 = 12\n",
      "6 * 3 = 18\n",
      "6 * 4 = 24\n",
      "6 * 5 = 30\n",
      "6 * 6 = 36\n",
      "6 * 7 = 42\n",
      "6 * 8 = 48\n",
      "6 * 9 = 54\n",
      "------------7단------------\n",
      "7 * 1 = 7\n",
      "7 * 2 = 14\n",
      "7 * 3 = 21\n",
      "7 * 4 = 28\n",
      "7 * 5 = 35\n",
      "7 * 6 = 42\n",
      "7 * 7 = 49\n",
      "7 * 8 = 56\n",
      "7 * 9 = 63\n",
      "--------------------------\n"
     ]
    }
   ],
   "source": [
    "# 구구단 3\n",
    "num1 = int(input(\"몇단부터 외워볼까요? \"))\n",
    "num2 = int(input(\"몇단까지 외워볼까요? \"))\n",
    "\n",
    "if num1 <= num2:\n",
    "    for n in range(num1, num2+1):\n",
    "        print(f'------------{n}단------------')\n",
    "        for x in range(1,10):\n",
    "            print(f'{n} * {x} = {n*x}')\n",
    "    else:\n",
    "        print('--------------------------')\n",
    "else:\n",
    "    print(\"숫자 범위를 잘못 입력하셨습니다.\")"
   ]
  },
  {
   "cell_type": "code",
   "execution_count": 56,
   "metadata": {},
   "outputs": [
    {
     "name": "stdout",
     "output_type": "stream",
     "text": [
      "2 * 1 = 2\n",
      "2 * 2 = 4\n",
      "2 * 3 = 6\n",
      "2 * 4 = 8\n",
      "2 * 5 = 10\n",
      "2 * 6 = 12\n",
      "2 * 7 = 14\n",
      "2 * 8 = 16\n",
      "2 * 9 = 18\n",
      "-------------------------\n"
     ]
    }
   ],
   "source": [
    "# 구구단 프로그램 → 잘못된 선택을 하면 오류를 낸다는 점에서 아쉽다.\n",
    "selection = int(input(\"n단을 출력하려면 1번을, 1-n단을 출력하려면 2번을, n-m단을 출력하려면 3번을 눌러주세요.\"))\n",
    "\n",
    "if selection == 1:\n",
    "    num1 = int(input(\"몇단을 외워볼까요? \"))\n",
    "    print(f'--------{num1}단------------')\n",
    "    for n in range(1, 10):\n",
    "        print(f'{num1} * {n} = {num1*n}')\n",
    "    else:\n",
    "        print('-------------------------')\n",
    "elif selection == 2:\n",
    "    num2 = int(input(\"몇단까지 외워볼까요? \"))\n",
    "    for n in range(1, num2+1):\n",
    "        print(f'-----------{n}단------------')\n",
    "        for x in range(1,10):\n",
    "            print(f'{n} * {x} = {n*x}')\n",
    "    else:\n",
    "        print('-------------------------')\n",
    "elif selection == 3:\n",
    "    num1 = int(input(\"몇단부터 외워볼까요? \"))\n",
    "    num2 = int(input(\"몇단까지 외워볼까요? \"))\n",
    "    if num1 <= num2:\n",
    "        for n in range(num1, num2+1):\n",
    "            print(f'------------{n}단-----------')\n",
    "            for x in range(1,10):\n",
    "                print(f'{n} * {x} = {n*x}')\n",
    "        else:\n",
    "            print('--------------------------')\n",
    "    else:\n",
    "        print(\"숫자 범위를 잘못 입력하셨습니다.\")\n",
    "else:\n",
    "    print(\"선택지를 잘못 입력하셨습니다.\")"
   ]
  },
  {
   "cell_type": "code",
   "execution_count": 37,
   "metadata": {},
   "outputs": [
    {
     "name": "stdout",
     "output_type": "stream",
     "text": [
      "--------3단------------\n",
      "3 * 1 = 3\n",
      "3 * 2 = 6\n",
      "3 * 3 = 9\n",
      "3 * 4 = 12\n",
      "3 * 5 = 15\n",
      "3 * 6 = 18\n",
      "3 * 7 = 21\n",
      "3 * 8 = 24\n",
      "3 * 9 = 27\n",
      "-------------------------\n"
     ]
    }
   ],
   "source": [
    "# 구구단 프로그램 개선판 (교수님꼐서 수업시간에 말씀하신 부분 반영)\n",
    "while True:\n",
    "    selection = int(input(\"n단을 출력하려면 1번을, 1-n단을 출력하려면 2번을, n-m단을 출력하려면 3번을 눌러주세요.\"))\n",
    "    if selection == 1:\n",
    "        num1 = int(input(\"몇단을 외워볼까요? \"))\n",
    "        print(f'--------{num1}단------------')\n",
    "        for n in range(1, 10):\n",
    "            print(f'{num1} * {n} = {num1*n}')\n",
    "        else:\n",
    "            print('-------------------------')\n",
    "        break\n",
    "    elif selection == 2:\n",
    "        num2 = int(input(\"몇단까지 외워볼까요? \"))\n",
    "        for n in range(1, num2+1):\n",
    "            print(f'-----------{n}단------------')\n",
    "            for x in range(1,10):\n",
    "                print(f'{n} * {x} = {n*x}')\n",
    "        else:\n",
    "            print('-------------------------')\n",
    "        break\n",
    "    elif selection == 3:\n",
    "        while True:\n",
    "            num1 = int(input(\"몇단부터 외워볼까요? \"))\n",
    "            num2 = int(input(\"몇단까지 외워볼까요? \"))\n",
    "            if num1 > num2:\n",
    "                print(\"숫자 범위를 잘못 입력하셨습니다.\")\n",
    "            else:\n",
    "                while num1 <= num2:\n",
    "                    for n in range(num1, num2+1):\n",
    "                        print(f'------------{n}단-----------')\n",
    "                        for x in range(1,10):\n",
    "                            print(f'{n} * {x} = {n*x}')\n",
    "                    else:\n",
    "                        break\n",
    "                print('--------------------------')\n",
    "                break\n",
    "        break\n",
    "    else:\n",
    "        print(\"선택지를 잘못 입력하셨습니다.\")"
   ]
  },
  {
   "cell_type": "markdown",
   "metadata": {},
   "source": [
    "### print foromatting\n",
    "- 1. f string\n",
    "    - f, F 둘 다 가능\n",
    "    - `f'{var}`\n",
    "- 2. format\n",
    "    - `{}.format(var)`\n",
    "- 3. %\n",
    "    - `'%tpye' %var`\n",
    "- `print('', a, '', b)`"
   ]
  },
  {
   "cell_type": "code",
   "execution_count": 6,
   "metadata": {},
   "outputs": [
    {
     "name": "stdout",
     "output_type": "stream",
     "text": [
      "나의 이름은 lee입니다.\n"
     ]
    }
   ],
   "source": [
    "name = 'lee'\n",
    "print(f'나의 이름은 {name}입니다.')"
   ]
  },
  {
   "cell_type": "code",
   "execution_count": 5,
   "metadata": {},
   "outputs": [
    {
     "name": "stdout",
     "output_type": "stream",
     "text": [
      "너의 이름은 lee ???\n"
     ]
    }
   ],
   "source": [
    "print('너의 이름은 {} ???'.format(name))"
   ]
  },
  {
   "cell_type": "code",
   "execution_count": 7,
   "metadata": {},
   "outputs": [
    {
     "name": "stdout",
     "output_type": "stream",
     "text": [
      "나의 이름은 lee입니다.\n"
     ]
    }
   ],
   "source": [
    "print('나의 이름은 %s입니다.' % name)"
   ]
  },
  {
   "cell_type": "code",
   "execution_count": 8,
   "metadata": {},
   "outputs": [
    {
     "name": "stdout",
     "output_type": "stream",
     "text": [
      "나의 이름은 name='lee'!!!\n"
     ]
    }
   ],
   "source": [
    "name = 'lee'\n",
    "print(f'나의 이름은 {name=}!!!')\n",
    "# 변수 이름까지 같이 출력됨 (=)"
   ]
  },
  {
   "cell_type": "code",
   "execution_count": 9,
   "metadata": {},
   "outputs": [
    {
     "name": "stdout",
     "output_type": "stream",
     "text": [
      "너의 이름은 l ???\n"
     ]
    }
   ],
   "source": [
    "print('너의 이름은 {:.1s} ???'.format(name))\n",
    "# 소수점 출력 시 활용"
   ]
  },
  {
   "cell_type": "markdown",
   "metadata": {},
   "source": [
    "### NLTK: Corpus\n",
    "- 다양한 종류의 코퍼스가 있다.\n",
    "- 더 다양한 언어 분석이 가능함.\n",
    "- 종류\n",
    "    - gutenberg \n",
    "    - brown\n",
    "    - inaugural\n",
    "- 함수\n",
    "    - words()\n",
    "    - sents()\n",
    "    - fileids()\n",
    "    - raw()"
   ]
  },
  {
   "cell_type": "code",
   "execution_count": 11,
   "metadata": {},
   "outputs": [
    {
     "data": {
      "text/plain": [
       "True"
      ]
     },
     "execution_count": 11,
     "metadata": {},
     "output_type": "execute_result"
    }
   ],
   "source": [
    "import nltk\n",
    "from nltk.corpus import gutenberg\n",
    "nltk.download('gutenberg', quiet=True)"
   ]
  },
  {
   "cell_type": "code",
   "execution_count": 12,
   "metadata": {},
   "outputs": [
    {
     "data": {
      "text/plain": [
       "<PlaintextCorpusReader in 'C:\\\\Users\\\\samsu\\\\AppData\\\\Roaming\\\\nltk_data\\\\corpora\\\\gutenberg'>"
      ]
     },
     "execution_count": 12,
     "metadata": {},
     "output_type": "execute_result"
    }
   ],
   "source": [
    "gutenberg"
   ]
  },
  {
   "cell_type": "code",
   "execution_count": 13,
   "metadata": {},
   "outputs": [
    {
     "data": {
      "text/plain": [
       "['[', 'Emma', 'by', 'Jane', 'Austen', '1816', ']', ...]"
      ]
     },
     "execution_count": 13,
     "metadata": {},
     "output_type": "execute_result"
    }
   ],
   "source": [
    "gutenberg.words()\n",
    "# tokens와는 다릅니다."
   ]
  },
  {
   "cell_type": "code",
   "execution_count": 15,
   "metadata": {},
   "outputs": [
    {
     "data": {
      "text/plain": [
       "['austen-emma.txt',\n",
       " 'austen-persuasion.txt',\n",
       " 'austen-sense.txt',\n",
       " 'bible-kjv.txt',\n",
       " 'blake-poems.txt',\n",
       " 'bryant-stories.txt',\n",
       " 'burgess-busterbrown.txt',\n",
       " 'carroll-alice.txt',\n",
       " 'chesterton-ball.txt',\n",
       " 'chesterton-brown.txt',\n",
       " 'chesterton-thursday.txt',\n",
       " 'edgeworth-parents.txt',\n",
       " 'melville-moby_dick.txt',\n",
       " 'milton-paradise.txt',\n",
       " 'shakespeare-caesar.txt',\n",
       " 'shakespeare-hamlet.txt',\n",
       " 'shakespeare-macbeth.txt',\n",
       " 'whitman-leaves.txt']"
      ]
     },
     "execution_count": 15,
     "metadata": {},
     "output_type": "execute_result"
    }
   ],
   "source": [
    "gutenberg.fileids()\n",
    "#구텐베르크에 있는 file들 찾기"
   ]
  },
  {
   "cell_type": "code",
   "execution_count": 17,
   "metadata": {},
   "outputs": [
    {
     "data": {
      "text/plain": [
       "['[', 'Emma', 'by', 'Jane', 'Austen', '1816', ']', ...]"
      ]
     },
     "execution_count": 17,
     "metadata": {},
     "output_type": "execute_result"
    }
   ],
   "source": [
    "gutenberg.words(['austen-emma.txt'])"
   ]
  },
  {
   "cell_type": "code",
   "execution_count": 71,
   "metadata": {},
   "outputs": [
    {
     "name": "stdout",
     "output_type": "stream",
     "text": [
      "austen-emma | 글자 수 = 887071개, 단어 수 = 192427개, 문장 수 7717 개.\n",
      "austen-persuasion | 글자 수 = 466292개, 단어 수 = 98171개, 문장 수 3747 개.\n",
      "austen-sense | 글자 수 = 673022개, 단어 수 = 141576개, 문장 수 4999 개.\n",
      "bible-kjv | 글자 수 = 4332554개, 단어 수 = 1010654개, 문장 수 30103 개.\n",
      "blake-poems | 글자 수 = 38153개, 단어 수 = 8354개, 문장 수 438 개.\n",
      "bryant-stories | 글자 수 = 249439개, 단어 수 = 55563개, 문장 수 2863 개.\n",
      "burgess-busterbrown | 글자 수 = 84663개, 단어 수 = 18963개, 문장 수 1054 개.\n",
      "carroll-alice | 글자 수 = 144395개, 단어 수 = 34110개, 문장 수 1703 개.\n",
      "chesterton-ball | 글자 수 = 457450개, 단어 수 = 96996개, 문장 수 4779 개.\n",
      "chesterton-brown | 글자 수 = 406629개, 단어 수 = 86063개, 문장 수 3806 개.\n",
      "chesterton-thursday | 글자 수 = 320525개, 단어 수 = 69213개, 문장 수 3728 개.\n",
      "edgeworth-parents | 글자 수 = 935158개, 단어 수 = 210663개, 문장 수 10230 개.\n",
      "melville-moby_dick | 글자 수 = 1242990개, 단어 수 = 260819개, 문장 수 10059 개.\n",
      "milton-paradise | 글자 수 = 468220개, 단어 수 = 96825개, 문장 수 1851 개.\n",
      "shakespeare-caesar | 글자 수 = 112310개, 단어 수 = 25833개, 문장 수 2163 개.\n",
      "shakespeare-hamlet | 글자 수 = 162881개, 단어 수 = 37360개, 문장 수 3106 개.\n",
      "shakespeare-macbeth | 글자 수 = 100351개, 단어 수 = 23140개, 문장 수 1907 개.\n",
      "whitman-leaves | 글자 수 = 711215개, 단어 수 = 154883개, 문장 수 4250 개.\n"
     ]
    }
   ],
   "source": [
    "# 구텐베르크의 각 파일을 돌아가면서 글자 수, 단어 수, 문장 수를 출력합니다.\n",
    "lists = gutenberg.fileids()\n",
    "\n",
    "for gutenbergs in lists:\n",
    "    letters = len(gutenberg.raw(gutenbergs))\n",
    "    words = len(gutenberg.words(gutenbergs))\n",
    "    sentences = len(gutenberg.sents(gutenbergs))\n",
    "    print(f'{gutenbergs[:-4]} | 글자 수 = {letters}개, 단어 수 = {words}개, 문장 수 {sentences} 개.')"
   ]
  },
  {
   "cell_type": "code",
   "execution_count": 18,
   "metadata": {},
   "outputs": [
    {
     "name": "stdout",
     "output_type": "stream",
     "text": [
      "글자 수 = 154883개, 단어 수 = 4250개, 문장 수 = 711215개\n"
     ]
    }
   ],
   "source": [
    "for files in gutenberg.fileids():\n",
    "    word_num = len(gutenberg.words(files))\n",
    "    sent_num = len(gutenberg.sents(files))\n",
    "    raw_num = len(gutenberg.raw(files))\n",
    "    \n",
    "print(f'글자 수 = {word_num}개, 단어 수 = {sent_num}개, 문장 수 = {raw_num}개')\n",
    "# range로 돌을 필요 없음"
   ]
  },
  {
   "cell_type": "markdown",
   "metadata": {},
   "source": [
    "#### nltk book 관련"
   ]
  },
  {
   "cell_type": "code",
   "execution_count": 22,
   "metadata": {},
   "outputs": [
    {
     "data": {
      "text/plain": [
       "True"
      ]
     },
     "execution_count": 22,
     "metadata": {},
     "output_type": "execute_result"
    }
   ],
   "source": [
    "# nltk.book text1 - 9\n",
    "from nltk.book import *\n",
    "nltk.download('book', quiet=True)"
   ]
  },
  {
   "cell_type": "code",
   "execution_count": 23,
   "metadata": {},
   "outputs": [],
   "source": [
    "texts = [text1, ...]\n",
    "#1. text1-9 => str 'text1'\n",
    "#2. 'text1'에 기능을 부여한다. getattr(library, string_name)"
   ]
  },
  {
   "cell_type": "code",
   "execution_count": 36,
   "metadata": {},
   "outputs": [
    {
     "data": {
      "text/plain": [
       "[<Text: Moby Dick by Herman Melville 1851>,\n",
       " <Text: Sense and Sensibility by Jane Austen 1811>,\n",
       " <Text: The Book of Genesis>,\n",
       " <Text: Inaugural Address Corpus>,\n",
       " <Text: Chat Corpus>,\n",
       " <Text: Monty Python and the Holy Grail>,\n",
       " <Text: Wall Street Journal>,\n",
       " <Text: Personals Corpus>,\n",
       " <Text: The Man Who Was Thursday by G . K . Chesterton 1908>]"
      ]
     },
     "execution_count": 36,
     "metadata": {},
     "output_type": "execute_result"
    }
   ],
   "source": [
    "# text1 vs. 'text1'\n",
    "texts = [getattr(nltk.book, f'text{i}') for i in range(1, 10)]\n",
    "texts"
   ]
  },
  {
   "cell_type": "code",
   "execution_count": 25,
   "metadata": {},
   "outputs": [],
   "source": [
    "corpus1 = gutenberg.words(fileids='whitman-leaves.txt')\n",
    "fdist = nltk.FreqDist([word for word in corpus1])"
   ]
  },
  {
   "cell_type": "code",
   "execution_count": 26,
   "metadata": {},
   "outputs": [
    {
     "data": {
      "text/plain": [
       "27"
      ]
     },
     "execution_count": 26,
     "metadata": {},
     "output_type": "execute_result"
    }
   ],
   "source": [
    "fdist['tree']"
   ]
  },
  {
   "cell_type": "markdown",
   "metadata": {},
   "source": [
    "### Brown\n",
    "- categories()"
   ]
  },
  {
   "cell_type": "code",
   "execution_count": 27,
   "metadata": {},
   "outputs": [
    {
     "name": "stderr",
     "output_type": "stream",
     "text": [
      "[nltk_data] Downloading package brown to\n",
      "[nltk_data]     C:\\Users\\samsu\\AppData\\Roaming\\nltk_data...\n",
      "[nltk_data]   Package brown is already up-to-date!\n"
     ]
    }
   ],
   "source": [
    "# from nltk.corpus impore brown\n",
    "nltk.download('brown')\n",
    "brown_corpus = nltk.corpus.brown"
   ]
  },
  {
   "cell_type": "code",
   "execution_count": 28,
   "metadata": {},
   "outputs": [
    {
     "data": {
      "text/plain": [
       "<CategorizedTaggedCorpusReader in 'C:\\\\Users\\\\samsu\\\\AppData\\\\Roaming\\\\nltk_data\\\\corpora\\\\brown'>"
      ]
     },
     "execution_count": 28,
     "metadata": {},
     "output_type": "execute_result"
    }
   ],
   "source": [
    "brown_corpus"
   ]
  },
  {
   "cell_type": "code",
   "execution_count": 79,
   "metadata": {},
   "outputs": [
    {
     "data": {
      "text/plain": [
       "['adventure',\n",
       " 'belles_lettres',\n",
       " 'editorial',\n",
       " 'fiction',\n",
       " 'government',\n",
       " 'hobbies',\n",
       " 'humor',\n",
       " 'learned',\n",
       " 'lore',\n",
       " 'mystery',\n",
       " 'news',\n",
       " 'religion',\n",
       " 'reviews',\n",
       " 'romance',\n",
       " 'science_fiction']"
      ]
     },
     "execution_count": 79,
     "metadata": {},
     "output_type": "execute_result"
    }
   ],
   "source": [
    "brown_corpus.categories()"
   ]
  },
  {
   "cell_type": "code",
   "execution_count": 29,
   "metadata": {},
   "outputs": [],
   "source": [
    "humor = brown_corpus.words(categories='humor')\n",
    "# 변수명을 종류명으로 지정해주기\n",
    "# humor에 관한 corpus가 뜸"
   ]
  },
  {
   "cell_type": "code",
   "execution_count": 30,
   "metadata": {},
   "outputs": [
    {
     "name": "stdout",
     "output_type": "stream",
     "text": [
      "can 17\n",
      "could 33\n",
      "may 8\n",
      "might 8\n",
      "will 13\n",
      "would 56\n"
     ]
    }
   ],
   "source": [
    "# modal verbs가 얼마나 쓰였는지 확인하는 법\n",
    "modals = ['can', 'could', 'may', 'might', 'will', 'would']\n",
    "humor = brown_corpus.words(categories='humor')\n",
    "\n",
    "fdist_brown = nltk.FreqDist([w.lower() for w in humor])\n",
    "\n",
    "for verb in modals:\n",
    "    print(verb, fdist_brown[verb])"
   ]
  },
  {
   "cell_type": "markdown",
   "metadata": {},
   "source": [
    "#### Conditional frequency distributioon (CFD)\n",
    "- 조건이 붙은 fdist"
   ]
  },
  {
   "cell_type": "code",
   "execution_count": 31,
   "metadata": {},
   "outputs": [],
   "source": [
    "cfd = nltk.ConditionalFreqDist(\n",
    "    # genre에 따른 fdist\n",
    "    (genre, word)\n",
    "    for genre in brown_corpus.categories()\n",
    "    for word in brown_corpus.words(categories = genre)\n",
    ")"
   ]
  },
  {
   "cell_type": "code",
   "execution_count": 32,
   "metadata": {},
   "outputs": [
    {
     "data": {
      "text/plain": [
       "FreqDist({'.': 4057, ',': 3488, 'the': 3370, 'and': 1622, 'a': 1354, 'of': 1322, 'to': 1309, '``': 998, \"''\": 995, 'was': 914, ...})"
      ]
     },
     "execution_count": 32,
     "metadata": {},
     "output_type": "execute_result"
    }
   ],
   "source": [
    "cfd['adventure']"
   ]
  },
  {
   "cell_type": "code",
   "execution_count": 33,
   "metadata": {},
   "outputs": [
    {
     "data": {
      "text/plain": [
       "3370"
      ]
     },
     "execution_count": 33,
     "metadata": {},
     "output_type": "execute_result"
    }
   ],
   "source": [
    "cfd['adventure']['the']\n",
    "# adventure 테마에서 'the'의 사용 횟수"
   ]
  },
  {
   "cell_type": "code",
   "execution_count": 34,
   "metadata": {},
   "outputs": [
    {
     "data": {
      "text/plain": [
       "[('.', 4057),\n",
       " (',', 3488),\n",
       " ('the', 3370),\n",
       " ('and', 1622),\n",
       " ('a', 1354),\n",
       " ('of', 1322),\n",
       " ('to', 1309),\n",
       " ('``', 998),\n",
       " (\"''\", 995),\n",
       " ('was', 914)]"
      ]
     },
     "execution_count": 34,
     "metadata": {},
     "output_type": "execute_result"
    }
   ],
   "source": [
    "cfd['adventure'].most_common(10)\n",
    "# adventure 테마에서 상위 10개로 빈번하게 사용된 단어"
   ]
  },
  {
   "cell_type": "code",
   "execution_count": 35,
   "metadata": {},
   "outputs": [
    {
     "name": "stdout",
     "output_type": "stream",
     "text": [
      "                 can could   may might  will would \n",
      "     adventure    46   151     5    58    50   191 \n",
      "belles_lettres   246   213   207   113   236   392 \n",
      "     editorial   121    56    74    39   233   180 \n"
     ]
    }
   ],
   "source": [
    "cfd.tabulate(conditions=brown_corpus.categories()[:3], samples=modals)"
   ]
  }
 ],
 "metadata": {
  "interpreter": {
   "hash": "b302213839ca7bdc6112edd7d75f3de6aacacf866e79e9f34d5b12ab50ac755c"
  },
  "kernelspec": {
   "display_name": "Python 3.10.2 64-bit",
   "language": "python",
   "name": "python3"
  },
  "language_info": {
   "codemirror_mode": {
    "name": "ipython",
    "version": 3
   },
   "file_extension": ".py",
   "mimetype": "text/x-python",
   "name": "python",
   "nbconvert_exporter": "python",
   "pygments_lexer": "ipython3",
   "version": "3.10.2"
  },
  "orig_nbformat": 4
 },
 "nbformat": 4,
 "nbformat_minor": 2
}

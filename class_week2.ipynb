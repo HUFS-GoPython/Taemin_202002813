{
 "cells": [
  {
   "cell_type": "markdown",
   "id": "da6d874c",
   "metadata": {},
   "source": [
    "# Ch2. Variables\n",
    "- int, str, float, bool"
   ]
  },
  {
   "cell_type": "markdown",
   "id": "da6d874c",
   "metadata": {},
   "source": [
    "-자료형의 변환"
   ]
  },
  {
   "cell_type": "code",
   "execution_count": 1,
   "id": "ccc95a39",
   "metadata": {},
   "outputs": [
    {
     "data": {
      "text/plain": [
       "int"
      ]
     },
     "execution_count": 1,
     "metadata": {},
     "output_type": "execute_result"
    }
   ],
   "source": [
    "a = 10\n",
    "type(a)"
   ]
  },
  {
   "cell_type": "code",
   "execution_count": 3,
   "id": "30668a11",
   "metadata": {},
   "outputs": [
    {
     "data": {
      "text/plain": [
       "10.0"
      ]
     },
     "execution_count": 3,
     "metadata": {},
     "output_type": "execute_result"
    }
   ],
   "source": [
    "#int → float\n",
    "float(a)"
   ]
  },
  {
   "cell_type": "code",
   "execution_count": 4,
   "id": "81333437",
   "metadata": {},
   "outputs": [
    {
     "data": {
      "text/plain": [
       "True"
      ]
     },
     "execution_count": 4,
     "metadata": {},
     "output_type": "execute_result"
    }
   ],
   "source": [
    "#int → bool\n",
    "bool(10)"
   ]
  },
  {
   "cell_type": "code",
   "execution_count": 5,
   "id": "f03500f6",
   "metadata": {},
   "outputs": [
    {
     "data": {
      "text/plain": [
       "10"
      ]
     },
     "execution_count": 5,
     "metadata": {},
     "output_type": "execute_result"
    }
   ],
   "source": [
    "# float에서 int로의 변환 → '내림'한다\n",
    "int(10.9)"
   ]
  },
  {
   "cell_type": "code",
   "execution_count": 6,
   "id": "09fd19b3",
   "metadata": {},
   "outputs": [
    {
     "name": "stdout",
     "output_type": "stream",
     "text": [
      "12\n",
      "11\n"
     ]
    }
   ],
   "source": [
    "x = 4.6\n",
    "y = 7.9\n",
    "print(int(x + y)) #12.5이지만 12이 나올 것\n",
    "print(int(x) + int(y)) #4+7이므로 11이 나올 것"
   ]
  },
  {
   "cell_type": "code",
   "execution_count": 7,
   "id": "b181b119",
   "metadata": {},
   "outputs": [
    {
     "ename": "ValueError",
     "evalue": "invalid literal for int() with base 10: '88.3'",
     "output_type": "error",
     "traceback": [
      "\u001b[1;31m---------------------------------------------------------------------------\u001b[0m",
      "\u001b[1;31mValueError\u001b[0m                                Traceback (most recent call last)",
      "\u001b[1;32mc:\\Users\\samsu\\TaeminLee_202002813\\TaeminLee_202002813\\week_02.ipynb Cell 8'\u001b[0m in \u001b[0;36m<cell line: 3>\u001b[1;34m()\u001b[0m\n\u001b[0;32m      <a href='vscode-notebook-cell:/c%3A/Users/samsu/TaeminLee_202002813/TaeminLee_202002813/week_02.ipynb#ch0000038?line=0'>1</a>\u001b[0m \u001b[39m#str → int\u001b[39;00m\n\u001b[0;32m      <a href='vscode-notebook-cell:/c%3A/Users/samsu/TaeminLee_202002813/TaeminLee_202002813/week_02.ipynb#ch0000038?line=1'>2</a>\u001b[0m p \u001b[39m=\u001b[39m \u001b[39m'\u001b[39m\u001b[39m88.3\u001b[39m\u001b[39m'\u001b[39m\n\u001b[1;32m----> <a href='vscode-notebook-cell:/c%3A/Users/samsu/TaeminLee_202002813/TaeminLee_202002813/week_02.ipynb#ch0000038?line=2'>3</a>\u001b[0m \u001b[39mint\u001b[39;49m(p)\n",
      "\u001b[1;31mValueError\u001b[0m: invalid literal for int() with base 10: '88.3'"
     ]
    }
   ],
   "source": [
    "#str → int\n",
    "p = '88.3'\n",
    "int(p) #str형을 floar형이나 int형으로 맞추기 위해서는 숫자의 형이 바꾸려는 자료형과 맞아야 한다."
   ]
  },
  {
   "cell_type": "markdown",
   "id": "0f9893f4",
   "metadata": {},
   "source": [
    "## 꿀팁 \n",
    "`print`"
   ]
  },
  {
   "cell_type": "code",
   "execution_count": 8,
   "id": "77d22f82",
   "metadata": {},
   "outputs": [
    {
     "name": "stdout",
     "output_type": "stream",
     "text": [
      "orange apple tomato\n",
      "the next line\n"
     ]
    }
   ],
   "source": [
    "print('orange', 'apple', 'tomato') #default: 띄어쓰기\n",
    "print(\"the next line\")"
   ]
  },
  {
   "cell_type": "code",
   "execution_count": 10,
   "id": "ff3b0b21",
   "metadata": {},
   "outputs": [
    {
     "name": "stdout",
     "output_type": "stream",
     "text": [
      "ornngeappletomato\n",
      "ornnge apple tomato\n",
      "ornnge apple tomato\n",
      "\n",
      "EOL\n"
     ]
    }
   ],
   "source": [
    "orange = 'ornnge'\n",
    "apple = 'apple'\n",
    "tomato = 'tomato'\n",
    "\n",
    "#1\n",
    "print(orange + apple + tomato) # + 연결 가능하지만 원소들간의 공백이 사라짐\n",
    "print(orange, apple, tomato, sep=' ', end='\\n') #default\n",
    "print(orange, apple, tomato, sep=' ', end='\\n\\n') #default\n",
    "print('EOL')"
   ]
  },
  {
   "cell_type": "code",
   "execution_count": 11,
   "id": "baec090b",
   "metadata": {},
   "outputs": [],
   "source": [
    "# 라인이 짧을 때 → ';' 사용\n",
    "orange = 'orange'; apple = 'apple'; tomato = 'tomato'"
   ]
  },
  {
   "cell_type": "code",
   "execution_count": 12,
   "id": "f373d247",
   "metadata": {},
   "outputs": [
    {
     "name": "stdout",
     "output_type": "stream",
     "text": [
      "5\n"
     ]
    }
   ],
   "source": [
    "num = 5; print(num)"
   ]
  },
  {
   "cell_type": "code",
   "execution_count": null,
   "id": "8633cb08",
   "metadata": {},
   "outputs": [],
   "source": []
  }
 ],
 "metadata": {
  "kernelspec": {
   "display_name": "Python 3 (ipykernel)",
   "language": "python",
   "name": "python3"
  },
  "language_info": {
   "codemirror_mode": {
    "name": "ipython",
    "version": 3
   },
   "file_extension": ".py",
   "mimetype": "text/x-python",
   "name": "python",
   "nbconvert_exporter": "python",
   "pygments_lexer": "ipython3",
   "version": "3.10.2"
  }
 },
 "nbformat": 4,
 "nbformat_minor": 5
}

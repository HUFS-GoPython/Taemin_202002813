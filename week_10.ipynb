{
 "cells": [
  {
   "cell_type": "code",
   "execution_count": 5,
   "metadata": {},
   "outputs": [],
   "source": [
    "# 값이 없을 때 0을 반환해주는 딕셔너리 타입\n",
    "from collections import defaultdict"
   ]
  },
  {
   "cell_type": "code",
   "execution_count": 2,
   "metadata": {},
   "outputs": [
    {
     "data": {
      "text/plain": [
       "{'d': 2, 'e': 1, 'f': 1, 'a': 1, 'u': 1, 'l': 1, 't': 2, 'i': 1, 'c': 1}"
      ]
     },
     "execution_count": 2,
     "metadata": {},
     "output_type": "execute_result"
    }
   ],
   "source": [
    "letter = 'defaultdict'\n",
    "empty = {} # a : [a, a]\n",
    "for ch in letter :\n",
    "    # if empty[ch] = 0\n",
    "    # else 값을 넣어라\n",
    "    empty.setdefault(ch, 0) # a가 없으면 기본값으로 0을 넣어라.\n",
    "    empty[ch] += 1\n",
    "empty"
   ]
  },
  {
   "cell_type": "code",
   "execution_count": 7,
   "metadata": {},
   "outputs": [
    {
     "data": {
      "text/plain": [
       "defaultdict(int,\n",
       "            {'d': 2,\n",
       "             'e': 1,\n",
       "             'f': 1,\n",
       "             'a': 1,\n",
       "             'u': 1,\n",
       "             'l': 1,\n",
       "             't': 2,\n",
       "             'i': 1,\n",
       "             'c': 1})"
      ]
     },
     "execution_count": 7,
     "metadata": {},
     "output_type": "execute_result"
    }
   ],
   "source": [
    "letter = 'defaultdict'\n",
    "empty2 = defaultdict(int)\n",
    "for ch in letter :\n",
    "    empty2[ch] += 1\n",
    "empty2"
   ]
  },
  {
   "cell_type": "markdown",
   "metadata": {},
   "source": [
    "## Object & Class\n",
    "### 객체 - 실제적인 물건, 개념\n",
    "- 속성과 행동을 가지는 어떤 개념\n",
    "- 실체가 있는 것\n",
    "    - 자동차를 구현하고자 한다면...\n",
    "        - 속성: 엔진, 브랜드, 가격, 색상 ...\n",
    "        - 행동: 가속하다, 감속하다, 정차하다, 조향하다 ...\n",
    "    - 고양이를 구현하고자 한다면...\n",
    "        - 속성: 종, 이름, 체중, 성별 ...\n",
    "        - 행동: 짖다, 뛰다, 걷다, 째려보다 ...\n",
    "- 실체가 없는 것\n",
    "    - 사전\n",
    "        - 속성: 글자 수, 시작 글자, 빈도수 ...\n",
    "        - 행동: 추가하다, 제외하다 ...\n",
    "- 관련 짓는 방법\n",
    "    - 사람         상점                      물건\n",
    "    - 이름, 돈 ... 재고, 이익, 고객명단 ...  브랜드, 이름, 가격 ...\n",
    "    - 사다         회원등록, 팔다, 수익계산\n",
    "- 객체 사용 이유: 코드의 재사용이 수월하기때문\n",
    "### 클래스\n",
    "- 객체가 가져야 할 기본 정보를 담은 코드\n",
    "- 설계도, 틀, 혹은 프레임워크와 비슷함\n",
    "- 붕어빵이 인스턴스라면, 클래스는 붕어빵 틀과 같다.\n",
    "- `class Car:`\n",
    "    - 클래스명은 카멜표기법을 쓴다.\n"
   ]
  },
  {
   "cell_type": "code",
   "execution_count": 1,
   "metadata": {},
   "outputs": [
    {
     "data": {
      "text/plain": [
       "<__main__.Car at 0x26f36d63070>"
      ]
     },
     "execution_count": 1,
     "metadata": {},
     "output_type": "execute_result"
    }
   ],
   "source": [
    "# 정의\n",
    "class Car:\n",
    "    pass\n",
    "\n",
    "# 선언 → 꼭 괄호 사용!\n",
    "car1 = Car()\n",
    "car1"
   ]
  },
  {
   "cell_type": "code",
   "execution_count": 3,
   "metadata": {},
   "outputs": [
    {
     "data": {
      "text/plain": [
       "__main__.Car"
      ]
     },
     "execution_count": 3,
     "metadata": {},
     "output_type": "execute_result"
    }
   ],
   "source": [
    "car2 = Car()\n",
    "type(car2)"
   ]
  },
  {
   "cell_type": "code",
   "execution_count": 7,
   "metadata": {},
   "outputs": [],
   "source": [
    "#브랜드를 지정하는 방법 1\n",
    "car1.brand = 'Mercedes'\n",
    "car2.brand = 'BMW'"
   ]
  },
  {
   "cell_type": "code",
   "execution_count": 8,
   "metadata": {},
   "outputs": [
    {
     "name": "stdout",
     "output_type": "stream",
     "text": [
      "Mercedes\n",
      "BMW\n"
     ]
    }
   ],
   "source": [
    "for car in [car1, car2]:\n",
    "    print(car.brand)"
   ]
  },
  {
   "cell_type": "code",
   "execution_count": 9,
   "metadata": {},
   "outputs": [
    {
     "data": {
      "text/plain": [
       "'Volkswagen'"
      ]
     },
     "execution_count": 9,
     "metadata": {},
     "output_type": "execute_result"
    }
   ],
   "source": [
    "# 브랜드를 지정하는 방법 2\n",
    "class Car:\n",
    "    brand = 'Volkswagen'\n",
    "\n",
    "car3 = Car()\n",
    "car3.brand"
   ]
  },
  {
   "cell_type": "code",
   "execution_count": 13,
   "metadata": {},
   "outputs": [],
   "source": [
    "# 다양한 속성을 원한다.\n",
    "class Car :\n",
    "    def __init__(self, brand, color, model) : # 속성을 초기화 하는 함수\n",
    "        self.brand = brand # self == instance\n",
    "        # self.brand = 어떤 객체가 만들어지더라도 가져갈 브랜드 명\n",
    "        # brand = 객체 생성 시 설정되는 브랜드 명 (처음에 들어오는 값)\n",
    "        self.color = color\n",
    "        self.model = model\n",
    "\n",
    "    def drive(self) :\n",
    "        # 출력 : 내 차(브랜드 = {})이 움직인다.\n",
    "        print(f\"내 차(브랜드 = {self.brand})가 움직인다.\")\n",
    "\n",
    "    def stop(self) :\n",
    "        print(\"차가 멈춘다.\")\n",
    "\n",
    "    def change_color(self) :\n",
    "        # self.color → 'pink'\n",
    "        self.color = 'pink'"
   ]
  },
  {
   "cell_type": "code",
   "execution_count": 14,
   "metadata": {},
   "outputs": [
    {
     "data": {
      "text/plain": [
       "'kia'"
      ]
     },
     "execution_count": 14,
     "metadata": {},
     "output_type": "execute_result"
    }
   ],
   "source": [
    "my_morning = Car('kia', 'white', 'morning') # (self == my_car)\n",
    "my_morning.brand"
   ]
  },
  {
   "cell_type": "code",
   "execution_count": 15,
   "metadata": {},
   "outputs": [
    {
     "data": {
      "text/plain": [
       "'black'"
      ]
     },
     "execution_count": 15,
     "metadata": {},
     "output_type": "execute_result"
    }
   ],
   "source": [
    "# 이 객체에 대해서만 속성 바꾸기\n",
    "my_morning.color = 'black'\n",
    "my_morning.color"
   ]
  },
  {
   "cell_type": "code",
   "execution_count": 16,
   "metadata": {},
   "outputs": [
    {
     "name": "stdout",
     "output_type": "stream",
     "text": [
      "내 차(브랜드 = kia)가 움직인다.\n"
     ]
    }
   ],
   "source": [
    "my_morning.drive()"
   ]
  },
  {
   "cell_type": "code",
   "execution_count": 17,
   "metadata": {},
   "outputs": [
    {
     "data": {
      "text/plain": [
       "'pink'"
      ]
     },
     "execution_count": 17,
     "metadata": {},
     "output_type": "execute_result"
    }
   ],
   "source": [
    "my_morning.change_color()\n",
    "my_morning.color"
   ]
  },
  {
   "cell_type": "code",
   "execution_count": 9,
   "metadata": {},
   "outputs": [
    {
     "data": {
      "text/plain": [
       "'blue'"
      ]
     },
     "execution_count": 9,
     "metadata": {},
     "output_type": "execute_result"
    }
   ],
   "source": [
    "# 내가 원하는 컬러로 바꾸고, 컬러가 없다면 orange로 기본값 설정하기\n",
    "class Car:\n",
    "    def __init__ (self, brand, model, color='orange'):\n",
    "        self.brand = brand\n",
    "        self.model = model\n",
    "        self.color = color\n",
    "\n",
    "    def change_color(self, color):\n",
    "        self.color = color\n",
    "\n",
    "my_elentra = Car('hyundai', 'elentra')\n",
    "my_elentra.change_color('blue')\n",
    "my_elentra.color\n"
   ]
  },
  {
   "cell_type": "code",
   "execution_count": 18,
   "metadata": {},
   "outputs": [],
   "source": [
    "# 모델명을 입력받지 않아도 출력받게 만들기\n",
    "class Car:\n",
    "    def __init__ (self, brand, model=None, color='orange'):\n",
    "        self.brand = brand\n",
    "        self.model = model\n",
    "        self.color = color\n",
    "    # action 정의하기\n",
    "    def change_color(self, color):\n",
    "        self.color = color\n",
    "\n",
    "my_car = Car('hyundai')\n",
    "my_car.model"
   ]
  },
  {
   "cell_type": "code",
   "execution_count": 19,
   "metadata": {},
   "outputs": [
    {
     "name": "stdout",
     "output_type": "stream",
     "text": [
      "None\n"
     ]
    }
   ],
   "source": [
    "print(my_car.model)"
   ]
  },
  {
   "cell_type": "markdown",
   "metadata": {},
   "source": [
    "### getter, setter\n",
    "- 캡슐화 정보 은닉\n",
    "- 클래스 외부에서 변수 접근을 용이하지 못하게 하는 것\n",
    "- Java에서의 Public → Private와 같음"
   ]
  },
  {
   "cell_type": "code",
   "execution_count": 20,
   "metadata": {},
   "outputs": [
    {
     "data": {
      "text/plain": [
       "'red'"
      ]
     },
     "execution_count": 20,
     "metadata": {},
     "output_type": "execute_result"
    }
   ],
   "source": [
    "#1. 틀에서 변수를 바꾸는 것\n",
    "class Fruit : \n",
    "    color = 'red'\n",
    "\n",
    "apple = Fruit()\n",
    "apple.color\n"
   ]
  },
  {
   "cell_type": "code",
   "execution_count": 21,
   "metadata": {},
   "outputs": [
    {
     "data": {
      "text/plain": [
       "'purple'"
      ]
     },
     "execution_count": 21,
     "metadata": {},
     "output_type": "execute_result"
    }
   ],
   "source": [
    "# 2. 인스턴스에서 변수를 바꾸는 것\n",
    "Fruit.color = 'purple'\n",
    "orange = Fruit()\n",
    "orange.color # 바꾸려한게 아닌데 바뀌어버림"
   ]
  },
  {
   "cell_type": "code",
   "execution_count": 22,
   "metadata": {},
   "outputs": [],
   "source": [
    "class Car:\n",
    "    def __init__(self, input_brand):\n",
    "        self.brand = input_brand\n",
    "\n",
    "    def get_brand(self):\n",
    "        # 원래 변수명에 접근하도록\n",
    "        print('from the getter')\n",
    "        return self.brand\n",
    "\n",
    "    def set_brand(self, input_brand):\n",
    "        # 변수명을 바꾸는 작업\n",
    "        print('from the setter')\n",
    "        self.brand = input_brand"
   ]
  },
  {
   "cell_type": "code",
   "execution_count": 37,
   "metadata": {},
   "outputs": [
    {
     "data": {
      "text/plain": [
       "'Porche'"
      ]
     },
     "execution_count": 37,
     "metadata": {},
     "output_type": "execute_result"
    }
   ],
   "source": [
    "ex = Car('Porche')\n",
    "ex.brand"
   ]
  },
  {
   "cell_type": "code",
   "execution_count": 38,
   "metadata": {},
   "outputs": [
    {
     "name": "stdout",
     "output_type": "stream",
     "text": [
      "from the getter\n"
     ]
    },
    {
     "data": {
      "text/plain": [
       "'Porche'"
      ]
     },
     "execution_count": 38,
     "metadata": {},
     "output_type": "execute_result"
    }
   ],
   "source": [
    "ex.get_brand()"
   ]
  },
  {
   "cell_type": "code",
   "execution_count": 39,
   "metadata": {},
   "outputs": [
    {
     "name": "stdout",
     "output_type": "stream",
     "text": [
      "from the setter\n"
     ]
    }
   ],
   "source": [
    "ex.set_brand('Range Rover')"
   ]
  },
  {
   "cell_type": "code",
   "execution_count": 40,
   "metadata": {},
   "outputs": [
    {
     "data": {
      "text/plain": [
       "'Range Rover'"
      ]
     },
     "execution_count": 40,
     "metadata": {},
     "output_type": "execute_result"
    }
   ],
   "source": [
    "ex.brand"
   ]
  },
  {
   "cell_type": "code",
   "execution_count": 41,
   "metadata": {},
   "outputs": [
    {
     "name": "stdout",
     "output_type": "stream",
     "text": [
      "from the getter\n"
     ]
    },
    {
     "data": {
      "text/plain": [
       "'Range Rover'"
      ]
     },
     "execution_count": 41,
     "metadata": {},
     "output_type": "execute_result"
    }
   ],
   "source": [
    "ex.get_brand()"
   ]
  },
  {
   "cell_type": "code",
   "execution_count": 42,
   "metadata": {},
   "outputs": [],
   "source": [
    "Car.brand = 'Volvo'"
   ]
  },
  {
   "cell_type": "code",
   "execution_count": 43,
   "metadata": {},
   "outputs": [
    {
     "data": {
      "text/plain": [
       "'Honda'"
      ]
     },
     "execution_count": 43,
     "metadata": {},
     "output_type": "execute_result"
    }
   ],
   "source": [
    "a = Car('Honda')\n",
    "a.brand"
   ]
  },
  {
   "cell_type": "code",
   "execution_count": 44,
   "metadata": {},
   "outputs": [
    {
     "name": "stdout",
     "output_type": "stream",
     "text": [
      "from the getter\n"
     ]
    },
    {
     "data": {
      "text/plain": [
       "'Honda'"
      ]
     },
     "execution_count": 44,
     "metadata": {},
     "output_type": "execute_result"
    }
   ],
   "source": [
    "a.get_brand()"
   ]
  },
  {
   "cell_type": "code",
   "execution_count": 45,
   "metadata": {},
   "outputs": [
    {
     "data": {
      "text/plain": [
       "'Ford'"
      ]
     },
     "execution_count": 45,
     "metadata": {},
     "output_type": "execute_result"
    }
   ],
   "source": [
    "class Car:\n",
    "    def __init__(self, input_brand):\n",
    "        self.hidden_brand = input_brand\n",
    "\n",
    "    def get_brand(self):\n",
    "        return self.hidden_brand\n",
    "\n",
    "    def set_brand(self, input_brand):\n",
    "        self.hidden_brand = input_brand\n",
    "\n",
    "    brand = property(get_brand, set_brand)\n",
    "\n",
    "c = Car('Ford')\n",
    "c.brand"
   ]
  },
  {
   "cell_type": "code",
   "execution_count": 31,
   "metadata": {},
   "outputs": [
    {
     "data": {
      "text/plain": [
       "'Chevorlet'"
      ]
     },
     "execution_count": 31,
     "metadata": {},
     "output_type": "execute_result"
    }
   ],
   "source": [
    "# decorator : @~~로 사용한다\n",
    "class Car:\n",
    "    def __init__(self, input_brand):\n",
    "        self.hidden_brand = input_brand\n",
    "\n",
    "    @property\n",
    "    def brand(self):\n",
    "        return self.hidden_brand\n",
    "\n",
    "    @brand.setter\n",
    "    def set_brand(self, input_brand):\n",
    "        self.hidden_brand = input_brand\n",
    "\n",
    "d = Car('Chevorlet')\n",
    "d.brand\n"
   ]
  },
  {
   "cell_type": "code",
   "execution_count": 35,
   "metadata": {},
   "outputs": [
    {
     "data": {
      "text/plain": [
       "30"
      ]
     },
     "execution_count": 35,
     "metadata": {},
     "output_type": "execute_result"
    }
   ],
   "source": [
    "class Circle:\n",
    "    def __init__(self, radius):\n",
    "        self.radius = radius\n",
    "\n",
    "    @property\n",
    "    def parameter(self):\n",
    "        return self.radius * 2\n",
    "\n",
    "ex = Circle(15)\n",
    "ex.parameter"
   ]
  },
  {
   "cell_type": "code",
   "execution_count": 36,
   "metadata": {},
   "outputs": [
    {
     "data": {
      "text/plain": [
       "38"
      ]
     },
     "execution_count": 36,
     "metadata": {},
     "output_type": "execute_result"
    }
   ],
   "source": [
    "ex.radius = 19\n",
    "ex.parameter"
   ]
  },
  {
   "cell_type": "markdown",
   "metadata": {},
   "source": [
    "### 실습\n",
    "- 객체:   메모장(노트),                          메모\n",
    "- 변수:   제목, 페이지번호, 메모                 글귀\n",
    "- 메서드: 추가 삭제, 페이지번호                  쓰기, 지우기\n",
    "- getter, setter 메모장 제목에 설정하기\n",
    "- '메모' 객체에 글귀를 추가하고\n",
    "- '메모장' 객체에 메모를 추가한다.\n",
    "- 이때 메모를 삭제하면 페이지번호가 줄어들고\n",
    "- 페이지가 300을 넘으면 메모를 추가 못하게 막는다.\n",
    "- 페이지번호로 메모를 찾을 수 있다."
   ]
  },
  {
   "cell_type": "code",
   "execution_count": 46,
   "metadata": {},
   "outputs": [
    {
     "data": {
      "text/plain": [
       "1"
      ]
     },
     "execution_count": 46,
     "metadata": {},
     "output_type": "execute_result"
    }
   ],
   "source": [
    "class Notebook:\n",
    "    def __init__(self, title, page_number=0, memo=[]):\n",
    "        self.title = title\n",
    "        self.page_number = page_number\n",
    "        self.memo = memo\n",
    "\n",
    "    def add_note(self, note):\n",
    "        for note in note.notes:\n",
    "            self.memo.append(note)\n",
    "            self.page_number += 1\n",
    "\n",
    "    def delete_note(self, note):\n",
    "        for note in note.notes:\n",
    "            self.memo.remove(note)\n",
    "            self.page_number -= 1\n",
    "\n",
    "    def get_page_num(self):\n",
    "        return self.page_number\n",
    "\n",
    "    def print_memos(self):\n",
    "        print(f\"<Notebook>\")\n",
    "        for page, memo in enumerate(self.memo):\n",
    "            print(memo)\n",
    "            print(f\"page | {page + 1}\")\n",
    "        print()\n",
    "\n",
    "class Note:\n",
    "    def __init__(self, notes=[]):\n",
    "        self.notes = notes\n",
    "\n",
    "    def write(self, line):\n",
    "        self.notes.append(line)\n",
    "\n",
    "    def erase(self, line):\n",
    "        self.notes.remove(line)\n",
    "\n",
    "    def print_notes(self):\n",
    "        print(f\"<Note>\")\n",
    "        for page, memo in enumerate(self.notes):\n",
    "            print(memo)\n",
    "            print(f\"page | {page + 1}\")\n",
    "        print()\n",
    "\n",
    "# 메모 내용\n",
    "memo1 = '우리 모두 스스로가 원하는 리더가 됩시다'\n",
    "memo2 = '모두가 함께 앞으로 나아가면 성공은 저절로 따라옵니다'\n",
    "memo3 = '혼자서는 작은 한 방울이지만 함께 모이면 바다를 이룹니다'\n",
    "memo4 = '늦었다고 생각할 때가 정말 늦은 것이다.'\n",
    "\n",
    "# 메모 추가\n",
    "note = Note()\n",
    "note.write(memo1)\n",
    "note.write(memo2)\n",
    "note.write(memo3)\n",
    "note.write(memo4)\n",
    "\n",
    "# 메모장에 추가\n",
    "my_book = Notebook('My memo')\n",
    "my_book.add_note(note)\n",
    "\n",
    "# 메모 삭제\n",
    "note.erase(memo2)\n",
    "\n",
    "# 메모장 삭제\n",
    "my_book.delete_note(my_note)\n",
    "\n",
    "# 페이지 번호 확인하기\n",
    "my_book.get_page_num()"
   ]
  }
 ],
 "metadata": {
  "interpreter": {
   "hash": "a78a970a3f0b7fe32d65d5d135e4e0d9e83cf5adea0a93e632365ac98669003f"
  },
  "kernelspec": {
   "display_name": "Python 3.10.2 64-bit",
   "language": "python",
   "name": "python3"
  },
  "language_info": {
   "codemirror_mode": {
    "name": "ipython",
    "version": 3
   },
   "file_extension": ".py",
   "mimetype": "text/x-python",
   "name": "python",
   "nbconvert_exporter": "python",
   "pygments_lexer": "ipython3",
   "version": "3.10.2"
  },
  "orig_nbformat": 4
 },
 "nbformat": 4,
 "nbformat_minor": 2
}

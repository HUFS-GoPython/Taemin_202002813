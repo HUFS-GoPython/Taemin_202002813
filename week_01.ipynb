{
 "cells": [
  {
   "cell_type": "markdown",
   "id": "c1dc897a-d3d4-4cc6-8749-502b42166d62",
   "metadata": {
    "tags": []
   },
   "source": [
    "# 프로그래밍이란?"
   ]
  },
  {
   "cell_type": "markdown",
   "id": "33f790f3-b974-44ba-b5ed-2c5fcf52b97f",
   "metadata": {},
   "source": [
    "- programming: 프로그래밍 언어를 사용하여 프로그램을 개발하는 것.\n",
    "- program : 일련의 작업을 자동화하는 것.\n",
    "- python: 프로그래밍 언어 중 하나. 인간이 컴퓨터에게 작업을 명령하기 위해 사용하는 컴퓨터가 이해할 수 있는 언어.- programming: 프로그래밍 언어를 사용하여 프로그램을 개발하는 것.\n",
    "- program : 일련의 작업을 자동화하는 것.\n",
    "- python: 프로그래임 언어 중 하나. 인간이 컴퓨터에게 작업을 명령하기 위해 사용하는 컴퓨터가 이해할 수 있는 언어"
   ]
  },
  {
   "cell_type": "markdown",
   "id": "82fb938b-683e-43dd-9d0a-dce14430ae10",
   "metadata": {},
   "source": [
    "# Ch2. Data: Types, Values, Variables, and Names"
   ]
  },
  {
   "cell_type": "code",
   "execution_count": 40,
   "id": "6ad823ce-4666-4f6f-8692-c6ada6eb3c88",
   "metadata": {},
   "outputs": [],
   "source": [
    "a = 2"
   ]
  },
  {
   "cell_type": "markdown",
   "id": "9f9f69f4-daad-4931-b8a9-1a4cf06b273a",
   "metadata": {
    "tags": []
   },
   "source": [
    "- markdown = m+\n",
    "\n",
    "- 변수 | variable (i.e. a): 특정 값을 저장하는 공간\n",
    "- 값 | value: 2\n",
    "- 자료형 | type: 2가 어떤 타입인가? 데이터의 형태. (i.e., integer, int타입)\n",
    "- 할당하다| assign: 2를 a에 넣는 과정\n",
    "    - a가 2다??? a == 2? (equal)"
   ]
  },
  {
   "cell_type": "code",
   "execution_count": 42,
   "id": "cd1ea216-d5e1-44f8-8b3a-f1dc48efe888",
   "metadata": {
    "tags": []
   },
   "outputs": [
    {
     "data": {
      "text/plain": [
       "2"
      ]
     },
     "execution_count": 42,
     "metadata": {},
     "output_type": "execute_result"
    }
   ],
   "source": [
    "a"
   ]
  },
  {
   "cell_type": "code",
   "execution_count": 43,
   "id": "622b2f1e-8138-4bba-a4b9-4a2edb78f911",
   "metadata": {
    "tags": []
   },
   "outputs": [
    {
     "data": {
      "text/plain": [
       "True"
      ]
     },
     "execution_count": 43,
     "metadata": {},
     "output_type": "execute_result"
    }
   ],
   "source": [
    "a == 2"
   ]
  },
  {
   "cell_type": "markdown",
   "id": "87f0ef7d-4d0f-494c-b6d0-2c5dcdb08df2",
   "metadata": {},
   "source": [
    "## 변수의 타입\n",
    "- boolean | 불리언: True, False (`bool`)\n",
    "- integer | 정수: 1, 2, 3, 4 (`int`)\n",
    "- floating point number | 부동소수점: 소수점이 있는 숫자(1.0, 1.2, ...) (`float`)\n",
    "- srting | 문자열 : \"apple\" (`string`)"
   ]
  },
  {
   "cell_type": "code",
   "execution_count": 5,
   "id": "74259c4b-1e77-4e32-9eb0-b0b6c704b47b",
   "metadata": {},
   "outputs": [
    {
     "data": {
      "text/plain": [
       "4"
      ]
     },
     "execution_count": 5,
     "metadata": {},
     "output_type": "execute_result"
    }
   ],
   "source": [
    "num = 4\n",
    "4"
   ]
  },
  {
   "cell_type": "code",
   "execution_count": 31,
   "id": "e181cff2-0114-4176-9519-f83306111a88",
   "metadata": {
    "tags": []
   },
   "outputs": [
    {
     "data": {
      "text/plain": [
       "int"
      ]
     },
     "execution_count": 31,
     "metadata": {},
     "output_type": "execute_result"
    }
   ],
   "source": [
    "type(num)"
   ]
  },
  {
   "cell_type": "code",
   "execution_count": 44,
   "id": "43084bc3-885b-4a69-a758-f143a4204744",
   "metadata": {},
   "outputs": [
    {
     "data": {
      "text/plain": [
       "bool"
      ]
     },
     "execution_count": 44,
     "metadata": {},
     "output_type": "execute_result"
    }
   ],
   "source": [
    "type(a==2)"
   ]
  },
  {
   "cell_type": "code",
   "execution_count": 45,
   "id": "281d7589-ab94-49c6-8a76-4303cf6c21b2",
   "metadata": {},
   "outputs": [
    {
     "data": {
      "text/plain": [
       "str"
      ]
     },
     "execution_count": 45,
     "metadata": {},
     "output_type": "execute_result"
    }
   ],
   "source": [
    "type(name)"
   ]
  },
  {
   "cell_type": "code",
   "execution_count": 13,
   "id": "84901924-8a22-4a4c-b083-c9df3d56ba8d",
   "metadata": {},
   "outputs": [
    {
     "ename": "NameError",
     "evalue": "name 'my_name' is not defined",
     "output_type": "error",
     "traceback": [
      "\u001b[1;31m---------------------------------------------------------------------------\u001b[0m",
      "\u001b[1;31mNameError\u001b[0m                                 Traceback (most recent call last)",
      "\u001b[1;32m~\\AppData\\Local\\Temp/ipykernel_7792/2325607021.py\u001b[0m in \u001b[0;36m<module>\u001b[1;34m\u001b[0m\n\u001b[1;32m----> 1\u001b[1;33m \u001b[0mmy_name\u001b[0m \u001b[1;31m#변수명으로 인식. 없는 변수 → 에러\u001b[0m\u001b[1;33m\u001b[0m\u001b[1;33m\u001b[0m\u001b[0m\n\u001b[0m",
      "\u001b[1;31mNameError\u001b[0m: name 'my_name' is not defined"
     ]
    }
   ],
   "source": [
    "my_name #변수명으로 인식. 없는 변수 → 에러"
   ]
  },
  {
   "cell_type": "code",
   "execution_count": 46,
   "id": "ec71a660-1f63-4d25-b41e-71e4616c3117",
   "metadata": {},
   "outputs": [
    {
     "name": "stdout",
     "output_type": "stream",
     "text": [
      "I'm Sam.\n",
      "I'm Sam.\n"
     ]
    }
   ],
   "source": [
    "# single quote 안에 single quote를 문자로 인식하는 방법\n",
    "# 'I'm  Sam/'   \n",
    "\n",
    "#1. \\ 사용\n",
    "print('I\\'m Sam.')\n",
    "\n",
    "#2. ''' 사용\n",
    "print('''I'm Sam.''')"
   ]
  },
  {
   "cell_type": "markdown",
   "id": "7377eea8-d851-4ade-9c58-e5f453f41535",
   "metadata": {},
   "source": [
    "## 변수명 정하기\n",
    "- 소문자, 대문자, 숫자, 언더바(_) 사용한다.\n",
    "  - 예: 'name', 'my_name', 'NAME', 'Name', 'name3'\n",
    "  - 불가능한 예: 'my-name', '3name'\n",
    "  \n",
    "- 변수명으로 사용할 수 없는 케이스\n",
    "    1. 숫자로 시작할 수 없다.\n",
    "    2. 예약어는 사용할 수 없다."
   ]
  },
  {
   "cell_type": "code",
   "execution_count": 21,
   "id": "469a1d4c-0806-4f76-8419-d25e2b2c317a",
   "metadata": {},
   "outputs": [
    {
     "data": {
      "text/plain": [
       "'lee'"
      ]
     },
     "execution_count": 21,
     "metadata": {},
     "output_type": "execute_result"
    }
   ],
   "source": [
    "name = 'lee'\n",
    "name"
   ]
  },
  {
   "cell_type": "code",
   "execution_count": 22,
   "id": "79b6361e-6c7a-4958-a71b-838a8249443d",
   "metadata": {},
   "outputs": [
    {
     "ename": "SyntaxError",
     "evalue": "invalid syntax (Temp/ipykernel_7792/2942085305.py, line 1)",
     "output_type": "error",
     "traceback": [
      "\u001b[1;36m  File \u001b[1;32m\"C:\\Users\\samsu\\AppData\\Local\\Temp/ipykernel_7792/2942085305.py\"\u001b[1;36m, line \u001b[1;32m1\u001b[0m\n\u001b[1;33m    3name = 'kim'\u001b[0m\n\u001b[1;37m     ^\u001b[0m\n\u001b[1;31mSyntaxError\u001b[0m\u001b[1;31m:\u001b[0m invalid syntax\n"
     ]
    }
   ],
   "source": [
    "3name = 'kim' # 숫자는 변수명 앞에 올 수 없다."
   ]
  },
  {
   "cell_type": "code",
   "execution_count": 24,
   "id": "c8e030dd-ae65-4a4a-bf75-2d30a5472ca8",
   "metadata": {},
   "outputs": [
    {
     "ename": "SyntaxError",
     "evalue": "invalid syntax (Temp/ipykernel_7792/3702995781.py, line 1)",
     "output_type": "error",
     "traceback": [
      "\u001b[1;36m  File \u001b[1;32m\"C:\\Users\\samsu\\AppData\\Local\\Temp/ipykernel_7792/3702995781.py\"\u001b[1;36m, line \u001b[1;32m1\u001b[0m\n\u001b[1;33m    def = 'Hwang' # 예약어는 변수명으로 사용할 수 없다.\u001b[0m\n\u001b[1;37m        ^\u001b[0m\n\u001b[1;31mSyntaxError\u001b[0m\u001b[1;31m:\u001b[0m invalid syntax\n"
     ]
    }
   ],
   "source": [
    "def = 'Hwang' # 예약어는 변수명으로 사용할 수 없다."
   ]
  },
  {
   "cell_type": "markdown",
   "id": "d8081e4b-5b77-4b0a-808c-917609a6a1d6",
   "metadata": {},
   "source": [
    "- 주의할 점 (특별한 용도가 있어서 일반적으로 사용하지 않는 변수명 타입)\n",
    "    1. 언더바로 시작하는 변수명\n",
    "        예: _name(클래스 내부용 변수)\n",
    "    2. 언더바가 2개 있는 변수명\n",
    "        예:' __name__\n",
    "    3. 대문자로 시작하는 변수명\n",
    "        예: Car\n",
    "    4. 전체가 대문자인 변수명\n",
    "        예: CAR"
   ]
  },
  {
   "cell_type": "code",
   "execution_count": 25,
   "id": "c3d91409-a4f0-4d89-8641-615c1f992a54",
   "metadata": {},
   "outputs": [],
   "source": [
    "# numer != Number\n",
    "word1 = 'number'\n",
    "word2 = 'Number'"
   ]
  },
  {
   "cell_type": "code",
   "execution_count": 26,
   "id": "1d961ce4-89e7-46b2-9021-e478e3e38e57",
   "metadata": {},
   "outputs": [
    {
     "data": {
      "text/plain": [
       "False"
      ]
     },
     "execution_count": 26,
     "metadata": {},
     "output_type": "execute_result"
    }
   ],
   "source": [
    "word1 == word2"
   ]
  },
  {
   "cell_type": "code",
   "execution_count": 27,
   "id": "9b9ed324-8a4a-4365-a5e8-f5ac20d0a866",
   "metadata": {},
   "outputs": [
    {
     "data": {
      "text/plain": [
       "True"
      ]
     },
     "execution_count": 27,
     "metadata": {},
     "output_type": "execute_result"
    }
   ],
   "source": [
    "word1 != word2"
   ]
  },
  {
   "cell_type": "markdown",
   "id": "6b49b3f5-8963-4fe3-a8e6-0c35e932ccb8",
   "metadata": {},
   "source": [
    "## 할당하기\n",
    "- 수학에서는 '='가 양변이 같음을 의미하는데, 퓨ㅡ로그램에서는 할당을 의미한다.\n",
    "    예: 'name = 'lee''\n",
    "    - lee라는 값을 name에 넣는 것.\n",
    "- 오른쪽에 있는 모든 것은 값을 가져야한다. (\"초기화\")\n",
    "- 변수 타입은 따로 지정하지 않는다."
   ]
  },
  {
   "cell_type": "code",
   "execution_count": 28,
   "id": "0e93aeb2-e042-4897-934b-d726a1037814",
   "metadata": {},
   "outputs": [],
   "source": [
    "car = 'Hyundai'"
   ]
  },
  {
   "cell_type": "code",
   "execution_count": 29,
   "id": "5045943d-72f7-4a40-99f5-900e58905a3c",
   "metadata": {},
   "outputs": [],
   "source": [
    "kia = 'kia'\n",
    "truck = kia #없는 값이기 때문에"
   ]
  },
  {
   "cell_type": "code",
   "execution_count": 47,
   "id": "3a7aa821-71ad-4c1d-a036-8daf5016b529",
   "metadata": {},
   "outputs": [
    {
     "name": "stdout",
     "output_type": "stream",
     "text": [
      "2 12\n"
     ]
    }
   ],
   "source": [
    "x = 2\n",
    "y = x + 10 # 위에서의 x에 대한 선언이 없다면, 'name 'X' is not defined'가 뜰 것\n",
    "print(x, y)"
   ]
  },
  {
   "cell_type": "code",
   "execution_count": 48,
   "id": "6dda882c-2d7d-46d5-9120-e95a719a373a",
   "metadata": {},
   "outputs": [
    {
     "data": {
      "text/plain": [
       "str"
      ]
     },
     "execution_count": 48,
     "metadata": {},
     "output_type": "execute_result"
    }
   ],
   "source": [
    "type(car) #str"
   ]
  },
  {
   "cell_type": "code",
   "execution_count": 50,
   "id": "5842681d-8eb0-48c4-aac5-58d5569f65ff",
   "metadata": {},
   "outputs": [],
   "source": [
    "# str car = 'kia'\n",
    "car = 'kia'"
   ]
  },
  {
   "cell_type": "code",
   "execution_count": 52,
   "id": "309e92d1-0e19-422a-95f3-4f5f76d88777",
   "metadata": {},
   "outputs": [
    {
     "data": {
      "text/plain": [
       "'kia'"
      ]
     },
     "execution_count": 52,
     "metadata": {},
     "output_type": "execute_result"
    }
   ],
   "source": [
    "car"
   ]
  },
  {
   "cell_type": "markdown",
   "id": "ac36dcd0-d2a2-4d0d-88ce-30b983011a6f",
   "metadata": {},
   "source": [
    "## 변수명을 잘 설정하자!!"
   ]
  }
 ],
 "metadata": {
  "kernelspec": {
   "display_name": "Python 3 (ipykernel)",
   "language": "python",
   "name": "python3"
  },
  "language_info": {
   "codemirror_mode": {
    "name": "ipython",
    "version": 3
   },
   "file_extension": ".py",
   "mimetype": "text/x-python",
   "name": "python",
   "nbconvert_exporter": "python",
   "pygments_lexer": "ipython3",
   "version": "3.9.7"
  }
 },
 "nbformat": 4,
 "nbformat_minor": 5
}

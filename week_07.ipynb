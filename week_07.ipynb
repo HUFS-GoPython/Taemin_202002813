{
 "cells": [
  {
   "cell_type": "code",
   "execution_count": 7,
   "metadata": {},
   "outputs": [
    {
     "name": "stdout",
     "output_type": "stream",
     "text": [
      "2004\n",
      "2004\n",
      "728\n",
      "3999\n"
     ]
    }
   ],
   "source": [
    "# Quiz 1번 복습\n",
    "\n",
    "# 숫자 불러오기\n",
    "import random\n",
    "num = random.randrange(1, 500000, 2)\n",
    "nums = []\n",
    "for _ in range(num):\n",
    "    nums.append(random.randint(1, 4000))\n",
    "    \n",
    "# 산술 평균\n",
    "if num >= 0:\n",
    "    print(int(sum(nums) / num + 0.5))\n",
    "elif num < 0:\n",
    "    print(int(sum(nums) / num - 0.5))\n",
    "    \n",
    "# 중앙값\n",
    "nums.sort()\n",
    "print(nums[int(num/2)])\n",
    "\n",
    "# 최빈값 - collection 라이브러리 활용 / 추후 다른 방식을 생각해보겠다.\n",
    "from collections import Counter\n",
    "\n",
    "count = Counter(nums).most_common(2)\n",
    "if len(nums) > 1:\n",
    "    if count[0][1] == count[1][1]:\n",
    "        print(count[1][0])\n",
    "    else:\n",
    "        print(count[0][0])\n",
    "else:\n",
    "    print(count[0][0])\n",
    "        \n",
    "# 범위\n",
    "print(max(nums) - min(nums))"
   ]
  },
  {
   "cell_type": "markdown",
   "metadata": {},
   "source": [
    "## 함수"
   ]
  },
  {
   "cell_type": "markdown",
   "metadata": {},
   "source": [
    "1. 정의\n",
    "    - 코드의 덩어리, 묶음.\n",
    "    - 코드의 (편리한) 재사용이 주된 목적.\n",
    "    - 정의하기(define) → 호출하기(call)의 순서로\n",
    "    - 구조\n",
    "        * 정의하기\n",
    "        - `def 함수이름(매개변수1, 2, 3, ...):`\n",
    "            - `수행문1`\n",
    "            - `수행문2`\n",
    "            - `....`\n",
    "            - `return 출력값` (생략될 수 있음)\n",
    "        * 호출하기\n",
    "        - `함수이름(인수1, 2, 3, ...):`\n",
    "    - \"인터페이스\"를 잘 설정하면 내부를 몰라도 함수를 쉽게 쓸 수 있다.\n",
    "2. 이름 짓기\n",
    "    - 소문자 사용\n",
    "    - 카멜표기법(소문자 - ) 보다는 언더바\n",
    "    - 동사 + 명사의 형식으로\n",
    "    - 줄임말은 쓰지 말자, 대신 명료하게\n",
    "\n"
   ]
  },
  {
   "cell_type": "code",
   "execution_count": 10,
   "metadata": {},
   "outputs": [
    {
     "name": "stdout",
     "output_type": "stream",
     "text": [
      "qudck\n"
     ]
    }
   ],
   "source": [
    "def make_a_sound():\n",
    "    # 입력, 반환 없음\n",
    "    print('qudck')\n",
    "    # return None\n",
    "make_a_sound()"
   ]
  },
  {
   "cell_type": "code",
   "execution_count": 11,
   "metadata": {},
   "outputs": [
    {
     "name": "stdout",
     "output_type": "stream",
     "text": [
      "qudck\n"
     ]
    }
   ],
   "source": [
    "make_a_sound()"
   ]
  },
  {
   "cell_type": "code",
   "execution_count": 13,
   "metadata": {},
   "outputs": [
    {
     "data": {
      "text/plain": [
       "True"
      ]
     },
     "execution_count": 13,
     "metadata": {},
     "output_type": "execute_result"
    }
   ],
   "source": [
    "def agree():\n",
    "    # 입력 없고, 반환 있음\n",
    "    return True\n",
    "\n",
    "agree()"
   ]
  },
  {
   "cell_type": "code",
   "execution_count": 14,
   "metadata": {},
   "outputs": [
    {
     "name": "stdout",
     "output_type": "stream",
     "text": [
      "Splendid\n"
     ]
    }
   ],
   "source": [
    "if agree():\n",
    "    print('Splendid')\n",
    "else:\n",
    "    print('This was unepected!')"
   ]
  },
  {
   "cell_type": "code",
   "execution_count": 16,
   "metadata": {},
   "outputs": [
    {
     "name": "stdout",
     "output_type": "stream",
     "text": [
      "hello,hello\n"
     ]
    }
   ],
   "source": [
    "def echo(anything):\n",
    "    print('{0},{0}'.format(anything))\n",
    "    # 입력 있고, 반환 없고 \n",
    "echo = echo('hello')"
   ]
  },
  {
   "cell_type": "code",
   "execution_count": 17,
   "metadata": {},
   "outputs": [],
   "source": [
    "echo"
   ]
  },
  {
   "cell_type": "markdown",
   "metadata": {},
   "source": [
    "3. 인수와 매개변수\n",
    "    - 매개변수: 정의할 때 쓰임.\n",
    "    - 인수: 호출할 때 쓰임.\n",
    "        - 위치 인수\n",
    "            - positonal argument\n",
    "            - 값을 순서대로 상응하는 매개변수에 복사하는 것\n",
    "        - 키워드 인수\n",
    "            - keyword argument\n",
    "            - 매개변후에 상응하는 이름을 인수가 지정\n",
    "            - 위치가 달라도 됨\n",
    "        - 디폴트 인수\n",
    "            - default argument\n",
    "            - 정의할 때  매개변수의 기본값 설정\n",
    "            - 호출시 정의한 인수가 없다면 기본값으로 인수가 지정\n",
    "    - 함수 호출시 인수에 할당된 값이 매개변수에 복제됨\n",
    "        - line = 'hello' → anything = line → anything 사라짐\n"
   ]
  },
  {
   "cell_type": "code",
   "execution_count": 22,
   "metadata": {},
   "outputs": [
    {
     "data": {
      "text/plain": [
       "'black'"
      ]
     },
     "execution_count": 22,
     "metadata": {},
     "output_type": "execute_result"
    }
   ],
   "source": [
    "def commentary(color):\n",
    "    # pass: 나중에 작성하고 싶을 때\n",
    "    if color == 'g':\n",
    "        return 'green'\n",
    "    else:\n",
    "        return 'black'\n",
    "\n",
    "color = 'white'\n",
    "commentary(color)"
   ]
  },
  {
   "cell_type": "code",
   "execution_count": 23,
   "metadata": {},
   "outputs": [
    {
     "name": "stdout",
     "output_type": "stream",
     "text": [
      "green\n",
      "black\n",
      "black\n"
     ]
    }
   ],
   "source": [
    "colors = ['g', 'r', 'b']\n",
    "\n",
    "for c in colors:\n",
    "    print(commentary(c))"
   ]
  },
  {
   "cell_type": "code",
   "execution_count": 25,
   "metadata": {},
   "outputs": [
    {
     "data": {
      "text/plain": [
       "{'wine': 'rioja', 'entree': 'cake', 'dessert': 'egg'}"
      ]
     },
     "execution_count": 25,
     "metadata": {},
     "output_type": "execute_result"
    }
   ],
   "source": [
    "def menu(wine, entree, dessert):\n",
    "    return {'wine':wine, 'entree': entree, 'dessert': dessert}\n",
    "\n",
    "menu('rioja', 'cake', 'egg')"
   ]
  },
  {
   "cell_type": "code",
   "execution_count": 26,
   "metadata": {},
   "outputs": [
    {
     "data": {
      "text/plain": [
       "{'wine': 'rioja', 'entree': 'egg', 'dessert': 'egg'}"
      ]
     },
     "execution_count": 26,
     "metadata": {},
     "output_type": "execute_result"
    }
   ],
   "source": [
    "menu(entree='egg', wine='rioja', dessert = 'egg')"
   ]
  },
  {
   "cell_type": "code",
   "execution_count": 31,
   "metadata": {},
   "outputs": [
    {
     "ename": "TypeError",
     "evalue": "menu() got multiple values for argument 'wine'",
     "output_type": "error",
     "traceback": [
      "\u001b[1;31m---------------------------------------------------------------------------\u001b[0m",
      "\u001b[1;31mTypeError\u001b[0m                                 Traceback (most recent call last)",
      "\u001b[1;32mc:\\Users\\samsu\\TaeminLee_202002813\\TaeminLee_202002813\\week_07.ipynb Cell 15'\u001b[0m in \u001b[0;36m<cell line: 1>\u001b[1;34m()\u001b[0m\n\u001b[1;32m----> <a href='vscode-notebook-cell:/c%3A/Users/samsu/TaeminLee_202002813/TaeminLee_202002813/week_07.ipynb#ch0000117?line=0'>1</a>\u001b[0m menu(\u001b[39m'\u001b[39;49m\u001b[39mrioja\u001b[39;49m\u001b[39m'\u001b[39;49m, wine\u001b[39m=\u001b[39;49m\u001b[39m'\u001b[39;49m\u001b[39mrioja\u001b[39;49m\u001b[39m'\u001b[39;49m, dessert \u001b[39m=\u001b[39;49m \u001b[39m'\u001b[39;49m\u001b[39megg\u001b[39;49m\u001b[39m'\u001b[39;49m)\n",
      "\u001b[1;31mTypeError\u001b[0m: menu() got multiple values for argument 'wine'"
     ]
    }
   ],
   "source": [
    "menu('rioja', wine='rioja', dessert = 'egg') #위치 인수도 위치를 고려해야 한다."
   ]
  },
  {
   "cell_type": "code",
   "execution_count": 27,
   "metadata": {},
   "outputs": [
    {
     "ename": "SyntaxError",
     "evalue": "non-default argument follows default argument (4282794694.py, line 2)",
     "output_type": "error",
     "traceback": [
      "\u001b[1;36m  Input \u001b[1;32mIn [27]\u001b[1;36m\u001b[0m\n\u001b[1;33m    def menu2(wine='merlot', entree, dessert):\u001b[0m\n\u001b[1;37m                             ^\u001b[0m\n\u001b[1;31mSyntaxError\u001b[0m\u001b[1;31m:\u001b[0m non-default argument follows default argument\n"
     ]
    }
   ],
   "source": [
    "# default를 사용할 때 default 지정된 부분이 안된 부분에 선행할 수 없다.\n",
    "def menu2(wine='merlot', entree, dessert):\n",
    "    return {'wine':wine, 'entree': entree, 'dessert': dessert}\n",
    "\n",
    "menu('rioja', 'cake', 'egg')"
   ]
  },
  {
   "cell_type": "code",
   "execution_count": 29,
   "metadata": {},
   "outputs": [
    {
     "data": {
      "text/plain": [
       "{'wine': 'rioja', 'entree': 'cake', 'dessert': 'egg'}"
      ]
     },
     "execution_count": 29,
     "metadata": {},
     "output_type": "execute_result"
    }
   ],
   "source": [
    "def menu2(wine, entree, dessert='scone'):\n",
    "    return {'wine':wine, 'entree': entree, 'dessert': dessert}\n",
    "\n",
    "menu2('rioja', 'cake', 'egg')"
   ]
  },
  {
   "cell_type": "code",
   "execution_count": 30,
   "metadata": {},
   "outputs": [
    {
     "data": {
      "text/plain": [
       "{'wine': 'merlot', 'entree': 'egg', 'dessert': 'scone'}"
      ]
     },
     "execution_count": 30,
     "metadata": {},
     "output_type": "execute_result"
    }
   ],
   "source": [
    "menu2('merlot', 'egg')"
   ]
  },
  {
   "cell_type": "markdown",
   "metadata": {},
   "source": [
    "### 나이 → 연도\n",
    "- 입력값을 나이로 하고, 반환값을 출생년도로 하는 함수 만들기.\n",
    "- 입력은 input를 활용"
   ]
  },
  {
   "cell_type": "code",
   "execution_count": 34,
   "metadata": {},
   "outputs": [
    {
     "data": {
      "text/plain": [
       "1998"
      ]
     },
     "execution_count": 34,
     "metadata": {},
     "output_type": "execute_result"
    }
   ],
   "source": [
    "def birthyear(age):\n",
    "    return 2022 - age\n",
    "\n",
    "human = int(input())\n",
    "birthyear(human)"
   ]
  },
  {
   "cell_type": "markdown",
   "metadata": {},
   "source": [
    "### 사각형 너비 구하기\n",
    "- 입력: 두 변의 길이\n",
    "- 반환: string = 'xxcm'"
   ]
  },
  {
   "cell_type": "code",
   "execution_count": 36,
   "metadata": {},
   "outputs": [
    {
     "name": "stdout",
     "output_type": "stream",
     "text": [
      "200 cm^2\n"
     ]
    }
   ],
   "source": [
    "def area(width, height):\n",
    "    print(f'{width * height} cm^2')\n",
    "          \n",
    "width_1 = int(input())\n",
    "height_1 = int(input())\n",
    "\n",
    "area(width_1, height_1)"
   ]
  },
  {
   "cell_type": "markdown",
   "metadata": {},
   "source": [
    "### 호출 방식\n",
    "- 정의된 부분이 메모리에 업로드 됨에도 실행은 이루어지지 않는다.\n",
    "- 실행은 호출시에 이루어진다\n",
    "- 값을 넘기는 방식: 참조에 의한 호출(call by reference)이므로, 메모리 주소를 넘기는 것\n",
    "- 메모리 주소가 복사되기 때문에 가변객체가 매개변수로 들어갈 때 주의할 것"
   ]
  },
  {
   "cell_type": "code",
   "execution_count": 39,
   "metadata": {},
   "outputs": [
    {
     "name": "stdout",
     "output_type": "stream",
     "text": [
      "2\n",
      "3\n",
      "1\n",
      "4\n"
     ]
    }
   ],
   "source": [
    "def calc_area(width, height):\n",
    "    print('1')\n",
    "    return width * height\n",
    "\n",
    "print('2')   \n",
    "width_1 = 3\n",
    "height_1 = 4\n",
    "print('3')\n",
    "calc_area(width_1, height_1)\n",
    "print('4')"
   ]
  },
  {
   "cell_type": "code",
   "execution_count": 45,
   "metadata": {},
   "outputs": [
    {
     "name": "stdout",
     "output_type": "stream",
     "text": [
      "['a']\n",
      "['a', 'b']\n"
     ]
    }
   ],
   "source": [
    "def buggy(arg, result=[]):\n",
    "    result.append(arg)\n",
    "    print(result)\n",
    "    \n",
    "buggy('a')\n",
    "buggy('b') # shallow copy이므로 스택이 된다."
   ]
  },
  {
   "cell_type": "code",
   "execution_count": 46,
   "metadata": {},
   "outputs": [
    {
     "name": "stdout",
     "output_type": "stream",
     "text": [
      "['a']\n",
      "['b']\n"
     ]
    }
   ],
   "source": [
    "def buggy(arg, result=[]):\n",
    "    result = [] # 따라서 리스트를 한번 비워줄 필요가 있다.\n",
    "    result.append(arg)\n",
    "    print(result)\n",
    "    \n",
    "buggy('a')\n",
    "buggy('b')"
   ]
  },
  {
   "cell_type": "code",
   "execution_count": 43,
   "metadata": {},
   "outputs": [
    {
     "name": "stdout",
     "output_type": "stream",
     "text": [
      "[0] ham\n"
     ]
    }
   ],
   "source": [
    "def spam(eggs):\n",
    "    eggs.append(1)\n",
    "    print(eggs)\n",
    "    print(eggs, 'eggs')\n",
    "    \n",
    "ham = [0]\n",
    "print(ham, 'ham')"
   ]
  },
  {
   "cell_type": "code",
   "execution_count": 47,
   "metadata": {},
   "outputs": [
    {
     "name": "stdout",
     "output_type": "stream",
     "text": [
      "b\n"
     ]
    }
   ],
   "source": [
    "# None\n",
    "thing = None\n",
    "if thing:\n",
    "    print('a')\n",
    "else:\n",
    "    print('b')"
   ]
  },
  {
   "cell_type": "code",
   "execution_count": 48,
   "metadata": {},
   "outputs": [
    {
     "name": "stdout",
     "output_type": "stream",
     "text": [
      "a\n"
     ]
    }
   ],
   "source": [
    "# None\n",
    "thing = None\n",
    "if thing is None:\n",
    "    print('a')\n",
    "elif thing:\n",
    "    print('b')\n",
    "else:\n",
    "    print('c')"
   ]
  },
  {
   "cell_type": "code",
   "execution_count": 50,
   "metadata": {},
   "outputs": [
    {
     "name": "stdout",
     "output_type": "stream",
     "text": [
      "['a']\n",
      "['a', 'b']\n"
     ]
    }
   ],
   "source": [
    "# 리스트 쌓이거나 비우는 옵션 모두 설정하도록 None 사용해서 함수 재정의\n",
    "# result is none, 빈 리스트\n",
    "# 아니면 코드 그대로\n",
    "def nonbuggy(arg, result):\n",
    "    if result is None:\n",
    "        result =[]\n",
    "    result.append(arg)\n",
    "    print(result)\n",
    "\n",
    "list_a = []\n",
    "nonbuggy('a', list_a)\n",
    "nonbuggy('b', list_a)"
   ]
  },
  {
   "cell_type": "markdown",
   "metadata": {},
   "source": [
    "#### 전역변수 vs 지역번수\n",
    "- 지역변수: 함수 내에서만 사용 가능\n",
    "- 전역변수: 프로그램 전체에서 사용 가능"
   ]
  },
  {
   "cell_type": "code",
   "execution_count": 51,
   "metadata": {},
   "outputs": [
    {
     "name": "stdout",
     "output_type": "stream",
     "text": [
      "London\n",
      "paris\n"
     ]
    }
   ],
   "source": [
    "#지역변수\n",
    "def fx():\n",
    "    city = 'London'\n",
    "    print(city)\n",
    "\n",
    "city ='paris'\n",
    "fx()\n",
    "print(city)"
   ]
  },
  {
   "cell_type": "code",
   "execution_count": 66,
   "metadata": {},
   "outputs": [
    {
     "name": "stdout",
     "output_type": "stream",
     "text": [
      "London\n",
      "Help on function fxa in module __main__:\n",
      "\n",
      "fxa()\n",
      "    doc string: 함수에 대한 설명\n",
      "    매개변수에 대한 설명, 타입, 함수의 의도\n",
      "\n"
     ]
    }
   ],
   "source": [
    "#전역변수\n",
    "def fxa():\n",
    "    \"\"\"\n",
    "    doc string: 함수에 대한 설명\n",
    "    매개변수에 대한 설명, 타입, 함수의 의도\n",
    "    \"\"\"\n",
    "    global city\n",
    "    city = 'London'\n",
    "    print(city)\n",
    "\n",
    "city ='paris'\n",
    "fxa()\n",
    "# 독스트링 호출\n",
    "help(fxa)"
   ]
  },
  {
   "cell_type": "markdown",
   "metadata": {},
   "source": [
    "- 공부중 알게된 사실...\n",
    "    - 기본값을 지정하면 별도의 선언 없이 함수를 구할 수 있다.\n",
    "    - 다만, 이것도 위치를 고려해야 한다."
   ]
  },
  {
   "cell_type": "code",
   "execution_count": 3,
   "metadata": {},
   "outputs": [
    {
     "name": "stdout",
     "output_type": "stream",
     "text": [
      "종료를 원하면 enter를 한 번 이상 눌러주세요.\n",
      "-----------2단------------\n",
      "2 * 1 = 2\n",
      "2 * 2 = 4\n",
      "2 * 3 = 6\n",
      "2 * 4 = 8\n",
      "2 * 5 = 10\n",
      "2 * 6 = 12\n",
      "2 * 7 = 14\n",
      "2 * 8 = 16\n",
      "2 * 9 = 18\n",
      "--------------------------\n",
      "이용해주셔서 감사합니다.\n"
     ]
    }
   ],
   "source": [
    "# 중간고사 코드 작성시 이 점을 활용하여 작성해보았다.\n",
    "\n",
    "def gugudan( num1 = 'q', num2 = 'q'):\n",
    "    \"\"\"\n",
    "        num1 (str, optional): 1, 3번 선택지의 첫번째 인수. q을 기본값으로 지정\n",
    "        num2 (str, optional): 공통 선택지의 첫번째 인수. q를 기본값으로 지정\n",
    "    \"\"\"\n",
    "    if (num1.isalpha()) or (num2.isalpha()):\n",
    "        if (num1 == 'q') or (num2 == 'q'):\n",
    "            print('이용해주셔서 감사합니다.')\n",
    "        else:\n",
    "            print(\"입력 오류\")\n",
    "    elif (num1 <= num2) and (num1.isalnum()) and (num2.isalnum()):\n",
    "        num1 = int(num1)\n",
    "        num2 = int(num2)\n",
    "        if (0 < num1 < 10) and (0 < num2 < 10):\n",
    "            for n in range(num1, num2+1):\n",
    "                print(f'-----------{n}단------------')\n",
    "                for x in range(1,10):\n",
    "                    print(f'{n} * {x} = {n*x}')\n",
    "            else:\n",
    "                print('--------------------------')\n",
    "                print('이용해주셔서 감사합니다.')\n",
    "    else:\n",
    "        print(\"입력 오류\")\n",
    "\n",
    "print(\"종료를 원하면 enter를 한 번 이상 눌러주세요.\")              \n",
    "num1 = input(\"처음 외울 단(1단부터 출력한다면 1을 입력합니다.):\")\n",
    "num2 = input(\"마지막으로 외울 단(하나의 단만 외울거라면 처음 외울 단과 같이 입력합니다.):\")\n",
    "\n",
    "gugudan(num1, num2)"
   ]
  }
 ],
 "metadata": {
  "interpreter": {
   "hash": "b302213839ca7bdc6112edd7d75f3de6aacacf866e79e9f34d5b12ab50ac755c"
  },
  "kernelspec": {
   "display_name": "Python 3.10.2 64-bit",
   "language": "python",
   "name": "python3"
  },
  "language_info": {
   "codemirror_mode": {
    "name": "ipython",
    "version": 3
   },
   "file_extension": ".py",
   "mimetype": "text/x-python",
   "name": "python",
   "nbconvert_exporter": "python",
   "pygments_lexer": "ipython3",
   "version": "3.10.2"
  },
  "orig_nbformat": 4
 },
 "nbformat": 4,
 "nbformat_minor": 2
}
